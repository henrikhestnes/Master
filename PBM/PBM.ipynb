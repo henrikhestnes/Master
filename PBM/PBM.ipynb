{
 "cells": [
  {
   "cell_type": "code",
   "execution_count": 5,
   "metadata": {},
   "outputs": [],
   "source": [
    "from datetime import datetime\n",
    "import pytz\n",
    "import pandas as pd"
   ]
  },
  {
   "cell_type": "code",
   "execution_count": 6,
   "metadata": {},
   "outputs": [],
   "source": [
    "result_file = open(\"./sim_july.csv\")\n",
    "\n",
    "#Skipping first two lines\n",
    "result_file.readline()\n",
    "result_file.readline()\n",
    "\n",
    "period = result_file.readline().split()[2:10]\n",
    "\n",
    "zone_names = result_file.readline().split()\n",
    "temp_map = {key:[] for key in zone_names}\n",
    "start_day, start_month, year = period[3].split('/')\n",
    "start_day, start_month, year = int(start_day), int(start_month), int(year) + 2000\n",
    "counter = 1\n",
    "while measured_temp := result_file.readline().split():\n",
    "    for i, value in enumerate(measured_temp):\n",
    "        if(i == 0):\n",
    "            time = value\n",
    "            hour, min = time.split('h')\n",
    "            hour, min = int(hour), int(min)\n",
    "            day = start_day + counter//24\n",
    "            if day > 31: #TODO: Brute force, FIX\n",
    "                day = 1\n",
    "            month = start_month + counter//(24*31)\n",
    "            datetime_obj = datetime(year=year, month=month, day=day, hour=hour, minute=min, tzinfo=pytz.timezone('Etc/GMT-2'))\n",
    "            temp_map[zone_names[i]].append(datetime_obj)\n",
    "        else:\n",
    "            temp = value\n",
    "            temp_map[zone_names[i]].append(float(temp))\n",
    "    counter += 1"
   ]
  },
  {
   "cell_type": "code",
   "execution_count": 7,
   "metadata": {},
   "outputs": [
    {
     "data": {
      "text/html": [
       "<div>\n",
       "<style scoped>\n",
       "    .dataframe tbody tr th:only-of-type {\n",
       "        vertical-align: middle;\n",
       "    }\n",
       "\n",
       "    .dataframe tbody tr th {\n",
       "        vertical-align: top;\n",
       "    }\n",
       "\n",
       "    .dataframe thead th {\n",
       "        text-align: right;\n",
       "    }\n",
       "</style>\n",
       "<table border=\"1\" class=\"dataframe\">\n",
       "  <thead>\n",
       "    <tr style=\"text-align: right;\">\n",
       "      <th></th>\n",
       "      <th>0BRoom_temperature</th>\n",
       "      <th>0BTLivingRoom_temperature</th>\n",
       "      <th>1Entrance_temperature</th>\n",
       "      <th>1GuestRoom_temperature</th>\n",
       "      <th>1MainRoom_temperature</th>\n",
       "      <th>1OutdoorEntrance_temperature</th>\n",
       "      <th>2LivingRoomCenter_temperature</th>\n",
       "      <th>2OfficeDesk_temperature</th>\n",
       "      <th>2Fireplace_temperature</th>\n",
       "      <th>2Cooking_temperature</th>\n",
       "    </tr>\n",
       "    <tr>\n",
       "      <th>timestamp</th>\n",
       "      <th></th>\n",
       "      <th></th>\n",
       "      <th></th>\n",
       "      <th></th>\n",
       "      <th></th>\n",
       "      <th></th>\n",
       "      <th></th>\n",
       "      <th></th>\n",
       "      <th></th>\n",
       "      <th></th>\n",
       "    </tr>\n",
       "  </thead>\n",
       "  <tbody>\n",
       "    <tr>\n",
       "      <th>2022-07-01 01:00:00+02:00</th>\n",
       "      <td>23.62</td>\n",
       "      <td>24.99</td>\n",
       "      <td>25.88</td>\n",
       "      <td>24.46</td>\n",
       "      <td>25.44</td>\n",
       "      <td>20.85</td>\n",
       "      <td>29.65</td>\n",
       "      <td>30.38</td>\n",
       "      <td>29.65</td>\n",
       "      <td>29.65</td>\n",
       "    </tr>\n",
       "    <tr>\n",
       "      <th>2022-07-01 02:00:00+02:00</th>\n",
       "      <td>23.41</td>\n",
       "      <td>24.81</td>\n",
       "      <td>25.78</td>\n",
       "      <td>24.29</td>\n",
       "      <td>25.79</td>\n",
       "      <td>20.45</td>\n",
       "      <td>28.90</td>\n",
       "      <td>29.73</td>\n",
       "      <td>28.90</td>\n",
       "      <td>28.90</td>\n",
       "    </tr>\n",
       "  </tbody>\n",
       "</table>\n",
       "</div>"
      ],
      "text/plain": [
       "                           0BRoom_temperature  0BTLivingRoom_temperature  \\\n",
       "timestamp                                                                  \n",
       "2022-07-01 01:00:00+02:00               23.62                      24.99   \n",
       "2022-07-01 02:00:00+02:00               23.41                      24.81   \n",
       "\n",
       "                           1Entrance_temperature  1GuestRoom_temperature  \\\n",
       "timestamp                                                                  \n",
       "2022-07-01 01:00:00+02:00                  25.88                   24.46   \n",
       "2022-07-01 02:00:00+02:00                  25.78                   24.29   \n",
       "\n",
       "                           1MainRoom_temperature  \\\n",
       "timestamp                                          \n",
       "2022-07-01 01:00:00+02:00                  25.44   \n",
       "2022-07-01 02:00:00+02:00                  25.79   \n",
       "\n",
       "                           1OutdoorEntrance_temperature  \\\n",
       "timestamp                                                 \n",
       "2022-07-01 01:00:00+02:00                         20.85   \n",
       "2022-07-01 02:00:00+02:00                         20.45   \n",
       "\n",
       "                           2LivingRoomCenter_temperature  \\\n",
       "timestamp                                                  \n",
       "2022-07-01 01:00:00+02:00                          29.65   \n",
       "2022-07-01 02:00:00+02:00                          28.90   \n",
       "\n",
       "                           2OfficeDesk_temperature  2Fireplace_temperature  \\\n",
       "timestamp                                                                    \n",
       "2022-07-01 01:00:00+02:00                    30.38                   29.65   \n",
       "2022-07-01 02:00:00+02:00                    29.73                   28.90   \n",
       "\n",
       "                           2Cooking_temperature  \n",
       "timestamp                                        \n",
       "2022-07-01 01:00:00+02:00                 29.65  \n",
       "2022-07-01 02:00:00+02:00                 28.90  "
      ]
     },
     "execution_count": 7,
     "metadata": {},
     "output_type": "execute_result"
    }
   ],
   "source": [
    "sim_temp = pd.DataFrame(temp_map)\n",
    "sim_temp[\"Time\"] = pd.to_datetime(sim_temp['Time'],  utc=True).dt.tz_convert('Etc/GMT-2')\n",
    "sim_temp = sim_temp.set_index('Time')\n",
    "\n",
    "rename_map = {\"Time\": \"timestamp\",\n",
    "              \"Ambientdb(C)(C)\": \"1OutdoorEntrance_temperature\",\n",
    "              \"gfSleepdbT(C)\": \"0BRoom_temperature\",\n",
    "              \"gfLivRoomdbT(C)\": \"0BTLivingRoom_temperature\",\n",
    "              \"1fEntrancedbT(C)\": \"1Entrance_temperature\",\n",
    "              \"1fSleep1dbT(C)\": \"1GuestRoom_temperature\",\n",
    "              \"1fSleep2dbT(C)\": \"1MainRoom_temperature\",\n",
    "              \"2fLivRoomdbT(C)\": \"2LivingRoomCenter_temperature\",\n",
    "              \"2fOfficedbT(C)\": \"2OfficeDesk_temperature\"}\n",
    "\n",
    "sim_temp = sim_temp.reset_index()[rename_map.keys()].rename(columns=rename_map).set_index(\"timestamp\").sort_index(axis=1)\n",
    "sim_temp['2Fireplace_temperature'] = sim_temp['2LivingRoomCenter_temperature']\n",
    "sim_temp['2Cooking_temperature'] = sim_temp['2LivingRoomCenter_temperature']\n",
    "sim_temp.head(2)"
   ]
  },
  {
   "cell_type": "code",
   "execution_count": 9,
   "metadata": {},
   "outputs": [
    {
     "data": {
      "text/plain": [
       "(744, 10)"
      ]
     },
     "execution_count": 9,
     "metadata": {},
     "output_type": "execute_result"
    }
   ],
   "source": [
    "sim_temp.shape"
   ]
  },
  {
   "cell_type": "code",
   "execution_count": 8,
   "metadata": {},
   "outputs": [],
   "source": [
    "sim_temp.to_csv(\"./esp-r_temp_pandas.csv\")"
   ]
  }
 ],
 "metadata": {
  "kernelspec": {
   "display_name": "LSTM",
   "language": "python",
   "name": "python3"
  },
  "language_info": {
   "codemirror_mode": {
    "name": "ipython",
    "version": 3
   },
   "file_extension": ".py",
   "mimetype": "text/x-python",
   "name": "python",
   "nbconvert_exporter": "python",
   "pygments_lexer": "ipython3",
   "version": "3.9.16"
  },
  "orig_nbformat": 4
 },
 "nbformat": 4,
 "nbformat_minor": 2
}
