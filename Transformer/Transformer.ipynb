{
 "cells": [
  {
   "cell_type": "code",
   "execution_count": 1,
   "metadata": {},
   "outputs": [
    {
     "name": "stderr",
     "output_type": "stream",
     "text": [
      "/home/henrikhestnes/anaconda3/envs/LSTM/lib/python3.9/site-packages/tqdm/auto.py:21: TqdmWarning: IProgress not found. Please update jupyter and ipywidgets. See https://ipywidgets.readthedocs.io/en/stable/user_install.html\n",
      "  from .autonotebook import tqdm as notebook_tqdm\n"
     ]
    }
   ],
   "source": [
    "#python libraries\n",
    "import os\n",
    "import re\n",
    "from datetime import datetime\n",
    "import pytz\n",
    "import copy\n",
    "\n",
    "#other ML libraries\n",
    "import numpy as np\n",
    "import pandas as pd #need pandas version < 2.0.0\n",
    "import torch\n",
    "import torch.nn as nn\n",
    "from torch.utils.data import DataLoader\n",
    "from torch.autograd import Variable\n",
    "from sklearn.preprocessing import StandardScaler, MinMaxScaler\n",
    "\n",
    "#ploting\n",
    "import matplotlib.pyplot as plt\n",
    "%matplotlib inline"
   ]
  },
  {
   "cell_type": "code",
   "execution_count": 2,
   "metadata": {},
   "outputs": [],
   "source": [
    "# Setting random seeds for reproducibility\n",
    "random_seed = 420\n",
    "np.random.seed(random_seed)\n",
    "_ = torch.manual_seed(random_seed)"
   ]
  },
  {
   "attachments": {},
   "cell_type": "markdown",
   "metadata": {},
   "source": [
    "### IMPORT PBM SIMULATION"
   ]
  },
  {
   "cell_type": "code",
   "execution_count": 3,
   "metadata": {},
   "outputs": [],
   "source": [
    "result_file = open(\"./../PBM/sim_july.csv\")\n",
    "\n",
    "#Skipping first two lines\n",
    "result_file.readline()\n",
    "result_file.readline()\n",
    "\n",
    "period = result_file.readline().split()[2:10]\n",
    "\n",
    "zone_names = result_file.readline().split()\n",
    "temp_map = {key:[] for key in zone_names}\n",
    "start_day, start_month, year = period[3].split('/')\n",
    "start_day, start_month, year = int(start_day), int(start_month), int(year) + 2000\n",
    "counter = 1\n",
    "while measured_temp := result_file.readline().split():\n",
    "    for i, value in enumerate(measured_temp):\n",
    "        if(i == 0):\n",
    "            time = value\n",
    "            hour, min = time.split('h')\n",
    "            hour, min = int(hour), int(min)\n",
    "            day = start_day + counter//24\n",
    "            if day > 31: #TODO: Brute force, FIX\n",
    "                day = 1\n",
    "            month = start_month + counter//(24*31)\n",
    "            datetime_obj = datetime(year=year, month=month, day=day, hour=hour, minute=min, tzinfo=pytz.timezone('Etc/GMT-2'))\n",
    "            temp_map[zone_names[i]].append(datetime_obj)\n",
    "        else:\n",
    "            temp = value\n",
    "            temp_map[zone_names[i]].append(float(temp))\n",
    "    counter += 1"
   ]
  },
  {
   "cell_type": "code",
   "execution_count": 4,
   "metadata": {},
   "outputs": [
    {
     "data": {
      "text/html": [
       "<div>\n",
       "<style scoped>\n",
       "    .dataframe tbody tr th:only-of-type {\n",
       "        vertical-align: middle;\n",
       "    }\n",
       "\n",
       "    .dataframe tbody tr th {\n",
       "        vertical-align: top;\n",
       "    }\n",
       "\n",
       "    .dataframe thead th {\n",
       "        text-align: right;\n",
       "    }\n",
       "</style>\n",
       "<table border=\"1\" class=\"dataframe\">\n",
       "  <thead>\n",
       "    <tr style=\"text-align: right;\">\n",
       "      <th></th>\n",
       "      <th>0BRoom_temperature</th>\n",
       "      <th>0BTLivingRoom_temperature</th>\n",
       "      <th>1Entrance_temperature</th>\n",
       "      <th>1GuestRoom_temperature</th>\n",
       "      <th>1MainRoom_temperature</th>\n",
       "      <th>1OutdoorEntrance_temperature</th>\n",
       "      <th>2LivingRoomCenter_temperature</th>\n",
       "      <th>2OfficeDesk_temperature</th>\n",
       "      <th>2Fireplace_temperature</th>\n",
       "      <th>2Cooking_temperature</th>\n",
       "    </tr>\n",
       "    <tr>\n",
       "      <th>timestamp</th>\n",
       "      <th></th>\n",
       "      <th></th>\n",
       "      <th></th>\n",
       "      <th></th>\n",
       "      <th></th>\n",
       "      <th></th>\n",
       "      <th></th>\n",
       "      <th></th>\n",
       "      <th></th>\n",
       "      <th></th>\n",
       "    </tr>\n",
       "  </thead>\n",
       "  <tbody>\n",
       "    <tr>\n",
       "      <th>2022-07-01 01:00:00+02:00</th>\n",
       "      <td>23.62</td>\n",
       "      <td>24.99</td>\n",
       "      <td>25.88</td>\n",
       "      <td>24.46</td>\n",
       "      <td>25.44</td>\n",
       "      <td>20.85</td>\n",
       "      <td>29.65</td>\n",
       "      <td>30.38</td>\n",
       "      <td>29.65</td>\n",
       "      <td>29.65</td>\n",
       "    </tr>\n",
       "    <tr>\n",
       "      <th>2022-07-01 02:00:00+02:00</th>\n",
       "      <td>23.41</td>\n",
       "      <td>24.81</td>\n",
       "      <td>25.78</td>\n",
       "      <td>24.29</td>\n",
       "      <td>25.79</td>\n",
       "      <td>20.45</td>\n",
       "      <td>28.90</td>\n",
       "      <td>29.73</td>\n",
       "      <td>28.90</td>\n",
       "      <td>28.90</td>\n",
       "    </tr>\n",
       "  </tbody>\n",
       "</table>\n",
       "</div>"
      ],
      "text/plain": [
       "                           0BRoom_temperature  0BTLivingRoom_temperature  \\\n",
       "timestamp                                                                  \n",
       "2022-07-01 01:00:00+02:00               23.62                      24.99   \n",
       "2022-07-01 02:00:00+02:00               23.41                      24.81   \n",
       "\n",
       "                           1Entrance_temperature  1GuestRoom_temperature  \\\n",
       "timestamp                                                                  \n",
       "2022-07-01 01:00:00+02:00                  25.88                   24.46   \n",
       "2022-07-01 02:00:00+02:00                  25.78                   24.29   \n",
       "\n",
       "                           1MainRoom_temperature  \\\n",
       "timestamp                                          \n",
       "2022-07-01 01:00:00+02:00                  25.44   \n",
       "2022-07-01 02:00:00+02:00                  25.79   \n",
       "\n",
       "                           1OutdoorEntrance_temperature  \\\n",
       "timestamp                                                 \n",
       "2022-07-01 01:00:00+02:00                         20.85   \n",
       "2022-07-01 02:00:00+02:00                         20.45   \n",
       "\n",
       "                           2LivingRoomCenter_temperature  \\\n",
       "timestamp                                                  \n",
       "2022-07-01 01:00:00+02:00                          29.65   \n",
       "2022-07-01 02:00:00+02:00                          28.90   \n",
       "\n",
       "                           2OfficeDesk_temperature  2Fireplace_temperature  \\\n",
       "timestamp                                                                    \n",
       "2022-07-01 01:00:00+02:00                    30.38                   29.65   \n",
       "2022-07-01 02:00:00+02:00                    29.73                   28.90   \n",
       "\n",
       "                           2Cooking_temperature  \n",
       "timestamp                                        \n",
       "2022-07-01 01:00:00+02:00                 29.65  \n",
       "2022-07-01 02:00:00+02:00                 28.90  "
      ]
     },
     "execution_count": 4,
     "metadata": {},
     "output_type": "execute_result"
    }
   ],
   "source": [
    "sim_temp = pd.DataFrame(temp_map)\n",
    "sim_temp[\"Time\"] = pd.to_datetime(sim_temp['Time'],  utc=True).dt.tz_convert('Etc/GMT-2')\n",
    "sim_temp = sim_temp.set_index('Time')\n",
    "\n",
    "rename_map = {\"Time\": \"timestamp\",\n",
    "              \"Ambientdb(C)(C)\": \"1OutdoorEntrance_temperature\",\n",
    "              \"gfSleepdbT(C)\": \"0BRoom_temperature\",\n",
    "              \"gfLivRoomdbT(C)\": \"0BTLivingRoom_temperature\",\n",
    "              \"1fEntrancedbT(C)\": \"1Entrance_temperature\",\n",
    "              \"1fSleep1dbT(C)\": \"1GuestRoom_temperature\",\n",
    "              \"1fSleep2dbT(C)\": \"1MainRoom_temperature\",\n",
    "              \"2fLivRoomdbT(C)\": \"2LivingRoomCenter_temperature\",\n",
    "              \"2fOfficedbT(C)\": \"2OfficeDesk_temperature\"}\n",
    "\n",
    "sim_temp = sim_temp.reset_index()[rename_map.keys()].rename(columns=rename_map).set_index(\"timestamp\").sort_index(axis=1)\n",
    "sim_temp['2Fireplace_temperature'] = sim_temp['2LivingRoomCenter_temperature']\n",
    "sim_temp['2Cooking_temperature'] = sim_temp['2LivingRoomCenter_temperature']\n",
    "sim_temp.head(2)"
   ]
  },
  {
   "attachments": {},
   "cell_type": "markdown",
   "metadata": {},
   "source": [
    "### DATA CLEANING"
   ]
  },
  {
   "cell_type": "code",
   "execution_count": 5,
   "metadata": {},
   "outputs": [],
   "source": [
    "#Import Disruptive & Netatmo Sensor Data\n",
    "\n",
    "# assign variables\n",
    "directory = './storedData/'\n",
    "sensor_data = pd.DataFrame()\n",
    "sensor_data['timestamp'] = None #in order to merge based on it \n",
    "\n",
    "measurement_types = [\"Door\", \"Water\", \"Humidity_temperature\", \"Humidity_humidity\", \n",
    "                     \"Humidifier_humidity\", \"Humidifier_temperature\",\"Temperature\",\n",
    "                     \"Hum_temperature\", \"Hum_humidity\"]\n",
    "discrete_measurement_types = [\"Door\", \"Water\"]\n",
    "\n",
    "\n",
    "# iterate over files in that directory and concat into 1 big dataframe based on timestamps\n",
    "for filename in os.listdir(directory): \n",
    "    file = os.path.join(directory, filename)\n",
    "    if os.path.isfile(file):    \n",
    "        df = pd.read_csv(file)\n",
    "        df.drop(columns=df.columns[0], inplace=True) # dropping unnamed coloumn for indexing in .cvs file\n",
    "\n",
    "        df['timestamp'] = pd.to_datetime(df['timestamp'],  utc=True)#, format=\"ISO8601\")#.dt.tz_convert('Europe/Rome') #set timezone correctly if not correct in local time\n",
    "        df.set_index(\"timestamp\", inplace=True)\n",
    "        for measurement_name in df.columns:\n",
    "            measurement_frame = df[measurement_name].to_frame()\n",
    "\n",
    "            measurement_name_list = re.findall(\"([A-Z0-9][^A-Z]*)\", measurement_name) # Splitting string on capital letters\n",
    "            measurement_type = measurement_name_list[-1]\n",
    "            if measurement_type not in measurement_types: #Temperature measurements does not have temperature in their name\n",
    "                measurement_type = \"Temperature\"\n",
    "                measurement_name_list.append(measurement_type)\n",
    "            #Renaming coloumn for consistent naming\n",
    "            coloumn_name = f\"{''.join(measurement_name_list[:-1])}_{measurement_type.lower()}\"\n",
    "            measurement_frame.rename(columns={measurement_frame.columns[0]: coloumn_name}, inplace=True)\n",
    "            # print(f\"key: {measurement_frame.columns[0]} Value: {coloumn_name}\")\n",
    "            if measurement_type in discrete_measurement_types:\n",
    "                #For Water Detection:\n",
    "                #NOT_PRESENT == No water detected = 0\n",
    "                #PRESENT     == water detected    = 1\n",
    "\n",
    "                #For Door Sensors: - this is because sensor changes state based on if it detects objects in front of it\n",
    "                #NOT_PRESENT == DOOR IS OPEN     = 0\n",
    "                #PRESENT     == DOOR IS CLOSED   = 1\n",
    "                \n",
    "                measurement_frame.replace(['NOT_PRESENT', 'PRESENT'],[0, 1], inplace=True)\n",
    "                measurement_frame = measurement_frame.resample('15T').ffill()\n",
    "            else: #Contious measurement\n",
    "                measurement_frame  = measurement_frame.resample('15T').mean().interpolate() #Resample to managable timestamps by taking mean of 5 minute slots and linear interpolating NaNs, i.e. 5, 10, 15, 20 minutes etc..\n",
    "\n",
    "    \n",
    "            sensor_data = pd.merge(sensor_data, measurement_frame, on='timestamp', how=\"outer\")  \n",
    "\n",
    "sensor_data.set_index(\"timestamp\", inplace=True)\n",
    "sensor_data.sort_index(axis=0, inplace=True) #Sorting by timestamp\n",
    "sensor_data.sort_index(axis=1, inplace=True) #Sorting columns alpabetically\n",
    "\n",
    "#Postprocesing the data in order to get rid of the NaN Values\n",
    "#ffill and fillna(0/1) to populate NaN values of the proximity with ffill and then set the values before first valid value to DOOR_CLOSED/NO_WATER\n",
    "sensor_data.loc[:, sensor_data.columns.str.endswith('door')] = sensor_data.loc[:, sensor_data.columns.str.endswith('door')].ffill().fillna(1)\n",
    "sensor_data.loc[:, sensor_data.columns.str.endswith('water')] = sensor_data.loc[:, sensor_data.columns.str.endswith('water')].ffill().fillna(0)\n",
    "\n",
    "\n",
    "# # #linearly interpolate temperature and humidity values:\n",
    "sensor_data.loc[:, sensor_data.columns.str.endswith('temperature')]  = sensor_data.loc[:, sensor_data.columns.str.endswith('temperature')].interpolate().bfill().ffill()\n",
    "sensor_data.loc[:, sensor_data.columns.str.endswith('humidity')]  = sensor_data.loc[:, sensor_data.columns.str.endswith('humidity')].interpolate().bfill().ffill()"
   ]
  },
  {
   "attachments": {},
   "cell_type": "markdown",
   "metadata": {},
   "source": [
    "### FEATURE ENGINEERING ###"
   ]
  },
  {
   "cell_type": "code",
   "execution_count": 6,
   "metadata": {},
   "outputs": [],
   "source": [
    "#Add hand-designed time-of-day and day-of-year features\n",
    "min_in_hour = 60\n",
    "min_in_day = 24*min_in_hour\n",
    "sensor_data['sin_daily'] = np.sin(2*np.pi*(sensor_data.index.minute + sensor_data.index.hour*min_in_hour)/min_in_day).values\n",
    "sensor_data['cos_daily'] = np.cos(2*np.pi*(sensor_data.index.minute + sensor_data.index.hour*min_in_hour)/min_in_day).values\n",
    "\n",
    "days_in_year = 365.2425\n",
    "sensor_data['sin_yearly'] = np.sin(2*np.pi*(sensor_data.index.day_of_year)/days_in_year).values\n",
    "sensor_data['cos_yearly'] = np.cos(2*np.pi*(sensor_data.index.day_of_year)/days_in_year).values\n",
    "\n",
    "days_in_week = 7\n",
    "sensor_data['sin_weekly'] = np.sin(2*np.pi*(sensor_data.index.day_of_week)/days_in_week).values\n",
    "sensor_data['cos_weekly'] = np.cos(2*np.pi*(sensor_data.index.day_of_week)/days_in_week).values"
   ]
  },
  {
   "attachments": {},
   "cell_type": "markdown",
   "metadata": {},
   "source": [
    "### DATA PREPROCESSING"
   ]
  },
  {
   "cell_type": "code",
   "execution_count": 7,
   "metadata": {},
   "outputs": [],
   "source": [
    "data = sensor_data.copy()\n",
    "cols_to_drop = ['1MainBR_hum_temperature', '2BalconyEntrance_temperature', '2LRWindow_temperature',\n",
    "                '2LivingRoomCenter_humidity_temperature', '2LivingRoom_humidifier_temperature'] #due to correlation\n",
    "data = data.drop(cols_to_drop, axis=1)\n",
    "\n",
    "data[\"0BTLivingRoom_temperature\"] = (data[\"0BTCeiling_temperature\"] + data[\"0BTFloor_temperature\"])/2\n",
    "data = data.drop(\"0BTFloor_temperature\", axis=1).drop(\"0BTCeiling_temperature\", axis=1).sort_index(axis=1)\n",
    "\n",
    "data[\"1Entrance_temperature\"] = (data[\"1Entrance1_temperature\"] + data[\"1StairBottom_temperature\"])/2\n",
    "data = data.drop(\"1Entrance1_temperature\", axis=1).drop(\"1StairBottom_temperature\", axis=1).sort_index(axis=1)\n",
    "\n",
    "drop_hum_and_water_data = True\n",
    "if drop_hum_and_water_data:\n",
    "    data = data.drop(data.columns[data.columns.str.endswith('humidity')], axis=1)\n",
    "    data = data.drop(data.columns[data.columns.str.endswith('water')], axis=1)"
   ]
  },
  {
   "cell_type": "code",
   "execution_count": 8,
   "metadata": {},
   "outputs": [
    {
     "name": "stdout",
     "output_type": "stream",
     "text": [
      "Shape of train_df = (33214, 22), Shape of val_df = (2976, 22), Shape of test_df = (2976, 22)\n",
      "Shape of labels = (33214, 10)\n"
     ]
    }
   ],
   "source": [
    "train_df_1 = data.loc[(data.index.month < 7) & (data.index.year == 2022)].copy()\n",
    "train_df_2 = data.loc[((data.index.month > 8) & (data.index.year == 2022))|(data.index.year == 2023)].copy()\n",
    "train_df = pd.concat([train_df_1, train_df_2])\n",
    "val_df = data.loc[(data.index.month == 8) & (data.index.year == 2022)].copy()\n",
    "test_df = data.loc[(data.index.month == 7) & (data.index.year == 2022)].copy()\n",
    "\n",
    "train_labels = train_df.loc[:, data.columns.str.endswith('temperature')].drop(\"1OutdoorEntrance_temperature\", axis=1).sort_index(axis=1)\n",
    "\n",
    "x_scaler = StandardScaler()\n",
    "y_scaler = StandardScaler()\n",
    "\n",
    "x_scaler.fit(train_df)\n",
    "y_scaler.fit(train_labels)\n",
    "\n",
    "train_df_1_scaled = x_scaler.transform(train_df_1)\n",
    "train_df_2_scaled = x_scaler.transform(train_df_2)\n",
    "train_df_1_scaled = pd.DataFrame(train_df_1_scaled, columns=train_df.columns)\n",
    "train_df_2_scaled = pd.DataFrame(train_df_2_scaled, columns=train_df.columns)\n",
    "val_df_scaled = x_scaler.transform(val_df)\n",
    "val_df_scaled = pd.DataFrame(val_df_scaled, columns=val_df.columns)\n",
    "test_df_scaled = x_scaler.transform(test_df)\n",
    "test_df_scaled = pd.DataFrame(test_df_scaled, columns=test_df.columns)\n",
    "\n",
    "\n",
    "print(f\"Shape of train_df = {train_df.shape}, Shape of val_df = {val_df.shape}, Shape of test_df = {test_df.shape}\")\n",
    "print(f\"Shape of labels = {train_labels.shape}\")"
   ]
  },
  {
   "cell_type": "code",
   "execution_count": 9,
   "metadata": {},
   "outputs": [
    {
     "data": {
      "text/html": [
       "<div>\n",
       "<style scoped>\n",
       "    .dataframe tbody tr th:only-of-type {\n",
       "        vertical-align: middle;\n",
       "    }\n",
       "\n",
       "    .dataframe tbody tr th {\n",
       "        vertical-align: top;\n",
       "    }\n",
       "\n",
       "    .dataframe thead th {\n",
       "        text-align: right;\n",
       "    }\n",
       "</style>\n",
       "<table border=\"1\" class=\"dataframe\">\n",
       "  <thead>\n",
       "    <tr style=\"text-align: right;\">\n",
       "      <th></th>\n",
       "      <th>0BGuest_door</th>\n",
       "      <th>0BRoom_temperature</th>\n",
       "      <th>0BTLivingRoom_temperature</th>\n",
       "      <th>0B_door</th>\n",
       "      <th>1Entrance_temperature</th>\n",
       "      <th>1GuestRoom_temperature</th>\n",
       "      <th>1MainRoom_temperature</th>\n",
       "      <th>1Main_door</th>\n",
       "      <th>1OutdoorEntrance_temperature</th>\n",
       "      <th>2Cooking_temperature</th>\n",
       "      <th>...</th>\n",
       "      <th>2LivingRoomCenter_temperature</th>\n",
       "      <th>2OfficeDesk_temperature</th>\n",
       "      <th>2Office_door</th>\n",
       "      <th>2Stair_temperature</th>\n",
       "      <th>cos_daily</th>\n",
       "      <th>cos_weekly</th>\n",
       "      <th>cos_yearly</th>\n",
       "      <th>sin_daily</th>\n",
       "      <th>sin_weekly</th>\n",
       "      <th>sin_yearly</th>\n",
       "    </tr>\n",
       "    <tr>\n",
       "      <th>timestamp</th>\n",
       "      <th></th>\n",
       "      <th></th>\n",
       "      <th></th>\n",
       "      <th></th>\n",
       "      <th></th>\n",
       "      <th></th>\n",
       "      <th></th>\n",
       "      <th></th>\n",
       "      <th></th>\n",
       "      <th></th>\n",
       "      <th></th>\n",
       "      <th></th>\n",
       "      <th></th>\n",
       "      <th></th>\n",
       "      <th></th>\n",
       "      <th></th>\n",
       "      <th></th>\n",
       "      <th></th>\n",
       "      <th></th>\n",
       "      <th></th>\n",
       "      <th></th>\n",
       "    </tr>\n",
       "  </thead>\n",
       "  <tbody>\n",
       "    <tr>\n",
       "      <th>2022-01-07 19:45:00+00:00</th>\n",
       "      <td>1.0</td>\n",
       "      <td>16.2</td>\n",
       "      <td>19.0875</td>\n",
       "      <td>1.0</td>\n",
       "      <td>19.65</td>\n",
       "      <td>16.25</td>\n",
       "      <td>14.9</td>\n",
       "      <td>1.0</td>\n",
       "      <td>-2.75</td>\n",
       "      <td>20.9</td>\n",
       "      <td>...</td>\n",
       "      <td>21.4</td>\n",
       "      <td>19.775</td>\n",
       "      <td>1.0</td>\n",
       "      <td>21.15</td>\n",
       "      <td>0.442289</td>\n",
       "      <td>-0.900969</td>\n",
       "      <td>0.992758</td>\n",
       "      <td>-0.896873</td>\n",
       "      <td>-0.433884</td>\n",
       "      <td>0.120129</td>\n",
       "    </tr>\n",
       "  </tbody>\n",
       "</table>\n",
       "<p>1 rows × 22 columns</p>\n",
       "</div>"
      ],
      "text/plain": [
       "                           0BGuest_door  0BRoom_temperature  \\\n",
       "timestamp                                                     \n",
       "2022-01-07 19:45:00+00:00           1.0                16.2   \n",
       "\n",
       "                           0BTLivingRoom_temperature  0B_door  \\\n",
       "timestamp                                                       \n",
       "2022-01-07 19:45:00+00:00                    19.0875      1.0   \n",
       "\n",
       "                           1Entrance_temperature  1GuestRoom_temperature  \\\n",
       "timestamp                                                                  \n",
       "2022-01-07 19:45:00+00:00                  19.65                   16.25   \n",
       "\n",
       "                           1MainRoom_temperature  1Main_door  \\\n",
       "timestamp                                                      \n",
       "2022-01-07 19:45:00+00:00                   14.9         1.0   \n",
       "\n",
       "                           1OutdoorEntrance_temperature  2Cooking_temperature  \\\n",
       "timestamp                                                                       \n",
       "2022-01-07 19:45:00+00:00                         -2.75                  20.9   \n",
       "\n",
       "                           ...  2LivingRoomCenter_temperature  \\\n",
       "timestamp                  ...                                  \n",
       "2022-01-07 19:45:00+00:00  ...                           21.4   \n",
       "\n",
       "                           2OfficeDesk_temperature  2Office_door  \\\n",
       "timestamp                                                          \n",
       "2022-01-07 19:45:00+00:00                   19.775           1.0   \n",
       "\n",
       "                           2Stair_temperature  cos_daily  cos_weekly  \\\n",
       "timestamp                                                              \n",
       "2022-01-07 19:45:00+00:00               21.15   0.442289   -0.900969   \n",
       "\n",
       "                           cos_yearly  sin_daily  sin_weekly  sin_yearly  \n",
       "timestamp                                                                 \n",
       "2022-01-07 19:45:00+00:00    0.992758  -0.896873   -0.433884    0.120129  \n",
       "\n",
       "[1 rows x 22 columns]"
      ]
     },
     "execution_count": 9,
     "metadata": {},
     "output_type": "execute_result"
    }
   ],
   "source": [
    "train_df.head(1)"
   ]
  },
  {
   "cell_type": "code",
   "execution_count": 10,
   "metadata": {},
   "outputs": [
    {
     "name": "stdout",
     "output_type": "stream",
     "text": [
      "(16721, 16)\n",
      "(16721, 6)\n",
      "(16493, 16)\n",
      "(16493, 6)\n",
      "(2976, 16)\n",
      "(2976, 6)\n",
      "(2976, 16)\n",
      "(2976, 6)\n"
     ]
    }
   ],
   "source": [
    "import WindowGenerator\n",
    "import importlib\n",
    "importlib.reload(WindowGenerator)\n",
    "\n",
    "measurements_per_day = 4*24\n",
    "sequence_width = measurements_per_day #24 hours\n",
    "label_width = 8 #2 hours\n",
    "shift = 0\n",
    "\n",
    "label_columns = train_labels.columns\n",
    "\n",
    "train_windows = WindowGenerator.WindowGenerator(sequence_width, label_width, shift)\n",
    "train_windows.add_data(train_df_1_scaled, label_columns)\n",
    "train_windows.add_data(train_df_2_scaled, label_columns)\n",
    "val_windows = WindowGenerator.WindowGenerator(sequence_width, label_width, shift)\n",
    "val_windows.add_data(val_df_scaled, label_columns)\n",
    "test_windows = WindowGenerator.WindowGenerator(sequence_width, label_width, shift)\n",
    "test_windows.add_data(test_df_scaled, label_columns)"
   ]
  },
  {
   "cell_type": "code",
   "execution_count": 11,
   "metadata": {},
   "outputs": [
    {
     "data": {
      "text/plain": [
       "<matplotlib.legend.Legend at 0x7fdf539199d0>"
      ]
     },
     "execution_count": 11,
     "metadata": {},
     "output_type": "execute_result"
    },
    {
     "data": {
      "image/png": "[encoded data removed]",
      "text/plain": [
       "<Figure size 640x480 with 1 Axes>"
      ]
     },
     "metadata": {},
     "output_type": "display_data"
    }
   ],
   "source": [
    "n = 0\n",
    "src = train_windows[n][0][:,1]\n",
    "tgt = train_windows[n][1][:,0]\n",
    "cos_daily = train_windows[n][2][:, 0]\n",
    "label = train_windows[n][3][:,0]\n",
    "plt.plot(range(len(src)), src, label=\"src\")\n",
    "plt.plot(range(len(src), len(src)+len(label)), tgt, label=\"tgt\")\n",
    "plt.plot(range(len(src), len(src)+len(label)), label, label=\"label\")\n",
    "plt.plot(range(len(cos_daily)), cos_daily, label=\"cos_daily\")\n",
    "plt.legend()"
   ]
  },
  {
   "cell_type": "code",
   "execution_count": 12,
   "metadata": {},
   "outputs": [
    {
     "name": "stdout",
     "output_type": "stream",
     "text": [
      "Features shape: torch.Size([500, 96, 16])\n",
      "Target shape: torch.Size([500, 8, 10])\n",
      "Positional shape: torch.Size([500, 103, 6])\n",
      "Label shape: torch.Size([500, 8, 10])\n"
     ]
    }
   ],
   "source": [
    "batch_size = 500\n",
    "train_loader = DataLoader(train_windows, batch_size=batch_size, shuffle=True)\n",
    "val_loader = DataLoader(val_windows, batch_size=batch_size, shuffle=False)\n",
    "test_loader = DataLoader(test_windows, batch_size=len(test_windows), shuffle=False)\n",
    "\n",
    "src, tgt, pos, label = next(iter(train_loader))\n",
    "print(\"Features shape:\", src.shape)\n",
    "print(\"Target shape:\", tgt.shape)\n",
    "print(\"Positional shape:\", pos.shape)\n",
    "print(\"Label shape:\", label.shape)"
   ]
  },
  {
   "attachments": {},
   "cell_type": "markdown",
   "metadata": {},
   "source": [
    "### TRANSFORMER"
   ]
  },
  {
   "cell_type": "code",
   "execution_count": 13,
   "metadata": {},
   "outputs": [
    {
     "data": {
      "text/plain": [
       "22"
      ]
     },
     "execution_count": 13,
     "metadata": {},
     "output_type": "execute_result"
    }
   ],
   "source": [
    "train_df.shape[1]"
   ]
  },
  {
   "cell_type": "code",
   "execution_count": 14,
   "metadata": {},
   "outputs": [
    {
     "name": "stdout",
     "output_type": "stream",
     "text": [
      "torch.Size([500, 96, 506])\n",
      "torch.Size([500, 8, 506])\n",
      "torch.Size([500, 96, 512])\n",
      "torch.Size([500, 8, 512])\n",
      "Batch: 0, Test Loss: 1.2339513301849365\n",
      "torch.Size([500, 96, 506])\n",
      "torch.Size([500, 8, 506])\n",
      "torch.Size([500, 96, 512])\n",
      "torch.Size([500, 8, 512])\n",
      "Batch: 1, Test Loss: 9.943804740905762\n",
      "torch.Size([500, 96, 506])\n",
      "torch.Size([500, 8, 506])\n",
      "torch.Size([500, 96, 512])\n",
      "torch.Size([500, 8, 512])\n",
      "Batch: 2, Test Loss: 1.8217147588729858\n",
      "torch.Size([500, 96, 506])\n",
      "torch.Size([500, 8, 506])\n",
      "torch.Size([500, 96, 512])\n",
      "torch.Size([500, 8, 512])\n",
      "Batch: 3, Test Loss: 2.4253222942352295\n",
      "torch.Size([500, 96, 506])\n",
      "torch.Size([500, 8, 506])\n",
      "torch.Size([500, 96, 512])\n",
      "torch.Size([500, 8, 512])\n",
      "Batch: 4, Test Loss: 1.4710365533828735\n",
      "torch.Size([500, 96, 506])\n",
      "torch.Size([500, 8, 506])\n",
      "torch.Size([500, 96, 512])\n",
      "torch.Size([500, 8, 512])\n"
     ]
    },
    {
     "ename": "KeyboardInterrupt",
     "evalue": "",
     "output_type": "error",
     "traceback": [
      "\u001b[0;31m---------------------------------------------------------------------------\u001b[0m",
      "\u001b[0;31mKeyboardInterrupt\u001b[0m                         Traceback (most recent call last)",
      "Cell \u001b[0;32mIn[14], line 12\u001b[0m\n\u001b[1;32m     10\u001b[0m lr \u001b[39m=\u001b[39m \u001b[39m0.001\u001b[39m\n\u001b[1;32m     11\u001b[0m l1_reg \u001b[39m=\u001b[39m \u001b[39m1e-9\u001b[39m\n\u001b[0;32m---> 12\u001b[0m model\u001b[39m.\u001b[39;49mtrain(train_loader, val_loader, epochs, lr, l1_reg)\n",
      "File \u001b[0;32m~/Documents/Master/Transformer/TransformerModel.py:90\u001b[0m, in \u001b[0;36mTransformer.train\u001b[0;34m(self, train_data, val_data, n_epochs, lr, l1_reg)\u001b[0m\n\u001b[1;32m     87\u001b[0m \u001b[39mfor\u001b[39;00m i, (src, tgt, pos_enc, label) \u001b[39min\u001b[39;00m \u001b[39menumerate\u001b[39m(train_data):\n\u001b[1;32m     88\u001b[0m     optimizer\u001b[39m.\u001b[39mzero_grad()\n\u001b[0;32m---> 90\u001b[0m     prediction \u001b[39m=\u001b[39m \u001b[39mself\u001b[39;49m(src, tgt, pos_enc)\n\u001b[1;32m     92\u001b[0m     batch_mse \u001b[39m=\u001b[39m criterion(prediction, label)\n\u001b[1;32m     93\u001b[0m     reg_loss \u001b[39m=\u001b[39m \u001b[39m0\u001b[39m\n",
      "File \u001b[0;32m~/anaconda3/envs/LSTM/lib/python3.9/site-packages/torch/nn/modules/module.py:1194\u001b[0m, in \u001b[0;36mModule._call_impl\u001b[0;34m(self, *input, **kwargs)\u001b[0m\n\u001b[1;32m   1190\u001b[0m \u001b[39m# If we don't have any hooks, we want to skip the rest of the logic in\u001b[39;00m\n\u001b[1;32m   1191\u001b[0m \u001b[39m# this function, and just call forward.\u001b[39;00m\n\u001b[1;32m   1192\u001b[0m \u001b[39mif\u001b[39;00m \u001b[39mnot\u001b[39;00m (\u001b[39mself\u001b[39m\u001b[39m.\u001b[39m_backward_hooks \u001b[39mor\u001b[39;00m \u001b[39mself\u001b[39m\u001b[39m.\u001b[39m_forward_hooks \u001b[39mor\u001b[39;00m \u001b[39mself\u001b[39m\u001b[39m.\u001b[39m_forward_pre_hooks \u001b[39mor\u001b[39;00m _global_backward_hooks\n\u001b[1;32m   1193\u001b[0m         \u001b[39mor\u001b[39;00m _global_forward_hooks \u001b[39mor\u001b[39;00m _global_forward_pre_hooks):\n\u001b[0;32m-> 1194\u001b[0m     \u001b[39mreturn\u001b[39;00m forward_call(\u001b[39m*\u001b[39;49m\u001b[39minput\u001b[39;49m, \u001b[39m*\u001b[39;49m\u001b[39m*\u001b[39;49mkwargs)\n\u001b[1;32m   1195\u001b[0m \u001b[39m# Do not call functions when jit is used\u001b[39;00m\n\u001b[1;32m   1196\u001b[0m full_backward_hooks, non_full_backward_hooks \u001b[39m=\u001b[39m [], []\n",
      "File \u001b[0;32m~/Documents/Master/Transformer/TransformerModel.py:72\u001b[0m, in \u001b[0;36mTransformer.forward\u001b[0;34m(self, src, tgt, pos_enc)\u001b[0m\n\u001b[1;32m     68\u001b[0m \u001b[39mprint\u001b[39m(src\u001b[39m.\u001b[39mshape)\n\u001b[1;32m     69\u001b[0m \u001b[39mprint\u001b[39m(tgt\u001b[39m.\u001b[39mshape)\n\u001b[0;32m---> 72\u001b[0m out \u001b[39m=\u001b[39m \u001b[39mself\u001b[39;49m\u001b[39m.\u001b[39;49mtransformer(src, tgt, tgt_mask\u001b[39m=\u001b[39;49m\u001b[39mself\u001b[39;49m\u001b[39m.\u001b[39;49mtgt_mask)\n\u001b[1;32m     73\u001b[0m \u001b[39mreturn\u001b[39;00m \u001b[39mself\u001b[39m\u001b[39m.\u001b[39moutput_linear(out)\n",
      "File \u001b[0;32m~/anaconda3/envs/LSTM/lib/python3.9/site-packages/torch/nn/modules/module.py:1194\u001b[0m, in \u001b[0;36mModule._call_impl\u001b[0;34m(self, *input, **kwargs)\u001b[0m\n\u001b[1;32m   1190\u001b[0m \u001b[39m# If we don't have any hooks, we want to skip the rest of the logic in\u001b[39;00m\n\u001b[1;32m   1191\u001b[0m \u001b[39m# this function, and just call forward.\u001b[39;00m\n\u001b[1;32m   1192\u001b[0m \u001b[39mif\u001b[39;00m \u001b[39mnot\u001b[39;00m (\u001b[39mself\u001b[39m\u001b[39m.\u001b[39m_backward_hooks \u001b[39mor\u001b[39;00m \u001b[39mself\u001b[39m\u001b[39m.\u001b[39m_forward_hooks \u001b[39mor\u001b[39;00m \u001b[39mself\u001b[39m\u001b[39m.\u001b[39m_forward_pre_hooks \u001b[39mor\u001b[39;00m _global_backward_hooks\n\u001b[1;32m   1193\u001b[0m         \u001b[39mor\u001b[39;00m _global_forward_hooks \u001b[39mor\u001b[39;00m _global_forward_pre_hooks):\n\u001b[0;32m-> 1194\u001b[0m     \u001b[39mreturn\u001b[39;00m forward_call(\u001b[39m*\u001b[39;49m\u001b[39minput\u001b[39;49m, \u001b[39m*\u001b[39;49m\u001b[39m*\u001b[39;49mkwargs)\n\u001b[1;32m   1195\u001b[0m \u001b[39m# Do not call functions when jit is used\u001b[39;00m\n\u001b[1;32m   1196\u001b[0m full_backward_hooks, non_full_backward_hooks \u001b[39m=\u001b[39m [], []\n",
      "File \u001b[0;32m~/anaconda3/envs/LSTM/lib/python3.9/site-packages/torch/nn/modules/transformer.py:146\u001b[0m, in \u001b[0;36mTransformer.forward\u001b[0;34m(self, src, tgt, src_mask, tgt_mask, memory_mask, src_key_padding_mask, tgt_key_padding_mask, memory_key_padding_mask)\u001b[0m\n\u001b[1;32m    143\u001b[0m \u001b[39mif\u001b[39;00m src\u001b[39m.\u001b[39msize(\u001b[39m-\u001b[39m\u001b[39m1\u001b[39m) \u001b[39m!=\u001b[39m \u001b[39mself\u001b[39m\u001b[39m.\u001b[39md_model \u001b[39mor\u001b[39;00m tgt\u001b[39m.\u001b[39msize(\u001b[39m-\u001b[39m\u001b[39m1\u001b[39m) \u001b[39m!=\u001b[39m \u001b[39mself\u001b[39m\u001b[39m.\u001b[39md_model:\n\u001b[1;32m    144\u001b[0m     \u001b[39mraise\u001b[39;00m \u001b[39mRuntimeError\u001b[39;00m(\u001b[39m\"\u001b[39m\u001b[39mthe feature number of src and tgt must be equal to d_model\u001b[39m\u001b[39m\"\u001b[39m)\n\u001b[0;32m--> 146\u001b[0m memory \u001b[39m=\u001b[39m \u001b[39mself\u001b[39;49m\u001b[39m.\u001b[39;49mencoder(src, mask\u001b[39m=\u001b[39;49msrc_mask, src_key_padding_mask\u001b[39m=\u001b[39;49msrc_key_padding_mask)\n\u001b[1;32m    147\u001b[0m output \u001b[39m=\u001b[39m \u001b[39mself\u001b[39m\u001b[39m.\u001b[39mdecoder(tgt, memory, tgt_mask\u001b[39m=\u001b[39mtgt_mask, memory_mask\u001b[39m=\u001b[39mmemory_mask,\n\u001b[1;32m    148\u001b[0m                       tgt_key_padding_mask\u001b[39m=\u001b[39mtgt_key_padding_mask,\n\u001b[1;32m    149\u001b[0m                       memory_key_padding_mask\u001b[39m=\u001b[39mmemory_key_padding_mask)\n\u001b[1;32m    150\u001b[0m \u001b[39mreturn\u001b[39;00m output\n",
      "File \u001b[0;32m~/anaconda3/envs/LSTM/lib/python3.9/site-packages/torch/nn/modules/module.py:1194\u001b[0m, in \u001b[0;36mModule._call_impl\u001b[0;34m(self, *input, **kwargs)\u001b[0m\n\u001b[1;32m   1190\u001b[0m \u001b[39m# If we don't have any hooks, we want to skip the rest of the logic in\u001b[39;00m\n\u001b[1;32m   1191\u001b[0m \u001b[39m# this function, and just call forward.\u001b[39;00m\n\u001b[1;32m   1192\u001b[0m \u001b[39mif\u001b[39;00m \u001b[39mnot\u001b[39;00m (\u001b[39mself\u001b[39m\u001b[39m.\u001b[39m_backward_hooks \u001b[39mor\u001b[39;00m \u001b[39mself\u001b[39m\u001b[39m.\u001b[39m_forward_hooks \u001b[39mor\u001b[39;00m \u001b[39mself\u001b[39m\u001b[39m.\u001b[39m_forward_pre_hooks \u001b[39mor\u001b[39;00m _global_backward_hooks\n\u001b[1;32m   1193\u001b[0m         \u001b[39mor\u001b[39;00m _global_forward_hooks \u001b[39mor\u001b[39;00m _global_forward_pre_hooks):\n\u001b[0;32m-> 1194\u001b[0m     \u001b[39mreturn\u001b[39;00m forward_call(\u001b[39m*\u001b[39;49m\u001b[39minput\u001b[39;49m, \u001b[39m*\u001b[39;49m\u001b[39m*\u001b[39;49mkwargs)\n\u001b[1;32m   1195\u001b[0m \u001b[39m# Do not call functions when jit is used\u001b[39;00m\n\u001b[1;32m   1196\u001b[0m full_backward_hooks, non_full_backward_hooks \u001b[39m=\u001b[39m [], []\n",
      "File \u001b[0;32m~/anaconda3/envs/LSTM/lib/python3.9/site-packages/torch/nn/modules/transformer.py:280\u001b[0m, in \u001b[0;36mTransformerEncoder.forward\u001b[0;34m(self, src, mask, src_key_padding_mask)\u001b[0m\n\u001b[1;32m    277\u001b[0m         src_key_padding_mask_for_layers \u001b[39m=\u001b[39m \u001b[39mNone\u001b[39;00m\n\u001b[1;32m    279\u001b[0m \u001b[39mfor\u001b[39;00m mod \u001b[39min\u001b[39;00m \u001b[39mself\u001b[39m\u001b[39m.\u001b[39mlayers:\n\u001b[0;32m--> 280\u001b[0m     output \u001b[39m=\u001b[39m mod(output, src_mask\u001b[39m=\u001b[39;49mmask, src_key_padding_mask\u001b[39m=\u001b[39;49msrc_key_padding_mask_for_layers)\n\u001b[1;32m    282\u001b[0m \u001b[39mif\u001b[39;00m convert_to_nested:\n\u001b[1;32m    283\u001b[0m     output \u001b[39m=\u001b[39m output\u001b[39m.\u001b[39mto_padded_tensor(\u001b[39m0.\u001b[39m)\n",
      "File \u001b[0;32m~/anaconda3/envs/LSTM/lib/python3.9/site-packages/torch/nn/modules/module.py:1194\u001b[0m, in \u001b[0;36mModule._call_impl\u001b[0;34m(self, *input, **kwargs)\u001b[0m\n\u001b[1;32m   1190\u001b[0m \u001b[39m# If we don't have any hooks, we want to skip the rest of the logic in\u001b[39;00m\n\u001b[1;32m   1191\u001b[0m \u001b[39m# this function, and just call forward.\u001b[39;00m\n\u001b[1;32m   1192\u001b[0m \u001b[39mif\u001b[39;00m \u001b[39mnot\u001b[39;00m (\u001b[39mself\u001b[39m\u001b[39m.\u001b[39m_backward_hooks \u001b[39mor\u001b[39;00m \u001b[39mself\u001b[39m\u001b[39m.\u001b[39m_forward_hooks \u001b[39mor\u001b[39;00m \u001b[39mself\u001b[39m\u001b[39m.\u001b[39m_forward_pre_hooks \u001b[39mor\u001b[39;00m _global_backward_hooks\n\u001b[1;32m   1193\u001b[0m         \u001b[39mor\u001b[39;00m _global_forward_hooks \u001b[39mor\u001b[39;00m _global_forward_pre_hooks):\n\u001b[0;32m-> 1194\u001b[0m     \u001b[39mreturn\u001b[39;00m forward_call(\u001b[39m*\u001b[39;49m\u001b[39minput\u001b[39;49m, \u001b[39m*\u001b[39;49m\u001b[39m*\u001b[39;49mkwargs)\n\u001b[1;32m   1195\u001b[0m \u001b[39m# Do not call functions when jit is used\u001b[39;00m\n\u001b[1;32m   1196\u001b[0m full_backward_hooks, non_full_backward_hooks \u001b[39m=\u001b[39m [], []\n",
      "File \u001b[0;32m~/anaconda3/envs/LSTM/lib/python3.9/site-packages/torch/nn/modules/transformer.py:538\u001b[0m, in \u001b[0;36mTransformerEncoderLayer.forward\u001b[0;34m(self, src, src_mask, src_key_padding_mask)\u001b[0m\n\u001b[1;32m    536\u001b[0m     x \u001b[39m=\u001b[39m x \u001b[39m+\u001b[39m \u001b[39mself\u001b[39m\u001b[39m.\u001b[39m_ff_block(\u001b[39mself\u001b[39m\u001b[39m.\u001b[39mnorm2(x))\n\u001b[1;32m    537\u001b[0m \u001b[39melse\u001b[39;00m:\n\u001b[0;32m--> 538\u001b[0m     x \u001b[39m=\u001b[39m \u001b[39mself\u001b[39m\u001b[39m.\u001b[39mnorm1(x \u001b[39m+\u001b[39m \u001b[39mself\u001b[39;49m\u001b[39m.\u001b[39;49m_sa_block(x, src_mask, src_key_padding_mask))\n\u001b[1;32m    539\u001b[0m     x \u001b[39m=\u001b[39m \u001b[39mself\u001b[39m\u001b[39m.\u001b[39mnorm2(x \u001b[39m+\u001b[39m \u001b[39mself\u001b[39m\u001b[39m.\u001b[39m_ff_block(x))\n\u001b[1;32m    541\u001b[0m \u001b[39mreturn\u001b[39;00m x\n",
      "File \u001b[0;32m~/anaconda3/envs/LSTM/lib/python3.9/site-packages/torch/nn/modules/transformer.py:546\u001b[0m, in \u001b[0;36mTransformerEncoderLayer._sa_block\u001b[0;34m(self, x, attn_mask, key_padding_mask)\u001b[0m\n\u001b[1;32m    544\u001b[0m \u001b[39mdef\u001b[39;00m \u001b[39m_sa_block\u001b[39m(\u001b[39mself\u001b[39m, x: Tensor,\n\u001b[1;32m    545\u001b[0m               attn_mask: Optional[Tensor], key_padding_mask: Optional[Tensor]) \u001b[39m-\u001b[39m\u001b[39m>\u001b[39m Tensor:\n\u001b[0;32m--> 546\u001b[0m     x \u001b[39m=\u001b[39m \u001b[39mself\u001b[39;49m\u001b[39m.\u001b[39;49mself_attn(x, x, x,\n\u001b[1;32m    547\u001b[0m                        attn_mask\u001b[39m=\u001b[39;49mattn_mask,\n\u001b[1;32m    548\u001b[0m                        key_padding_mask\u001b[39m=\u001b[39;49mkey_padding_mask,\n\u001b[1;32m    549\u001b[0m                        need_weights\u001b[39m=\u001b[39;49m\u001b[39mFalse\u001b[39;49;00m)[\u001b[39m0\u001b[39m]\n\u001b[1;32m    550\u001b[0m     \u001b[39mreturn\u001b[39;00m \u001b[39mself\u001b[39m\u001b[39m.\u001b[39mdropout1(x)\n",
      "File \u001b[0;32m~/anaconda3/envs/LSTM/lib/python3.9/site-packages/torch/nn/modules/module.py:1194\u001b[0m, in \u001b[0;36mModule._call_impl\u001b[0;34m(self, *input, **kwargs)\u001b[0m\n\u001b[1;32m   1190\u001b[0m \u001b[39m# If we don't have any hooks, we want to skip the rest of the logic in\u001b[39;00m\n\u001b[1;32m   1191\u001b[0m \u001b[39m# this function, and just call forward.\u001b[39;00m\n\u001b[1;32m   1192\u001b[0m \u001b[39mif\u001b[39;00m \u001b[39mnot\u001b[39;00m (\u001b[39mself\u001b[39m\u001b[39m.\u001b[39m_backward_hooks \u001b[39mor\u001b[39;00m \u001b[39mself\u001b[39m\u001b[39m.\u001b[39m_forward_hooks \u001b[39mor\u001b[39;00m \u001b[39mself\u001b[39m\u001b[39m.\u001b[39m_forward_pre_hooks \u001b[39mor\u001b[39;00m _global_backward_hooks\n\u001b[1;32m   1193\u001b[0m         \u001b[39mor\u001b[39;00m _global_forward_hooks \u001b[39mor\u001b[39;00m _global_forward_pre_hooks):\n\u001b[0;32m-> 1194\u001b[0m     \u001b[39mreturn\u001b[39;00m forward_call(\u001b[39m*\u001b[39;49m\u001b[39minput\u001b[39;49m, \u001b[39m*\u001b[39;49m\u001b[39m*\u001b[39;49mkwargs)\n\u001b[1;32m   1195\u001b[0m \u001b[39m# Do not call functions when jit is used\u001b[39;00m\n\u001b[1;32m   1196\u001b[0m full_backward_hooks, non_full_backward_hooks \u001b[39m=\u001b[39m [], []\n",
      "File \u001b[0;32m~/anaconda3/envs/LSTM/lib/python3.9/site-packages/torch/nn/modules/activation.py:1167\u001b[0m, in \u001b[0;36mMultiheadAttention.forward\u001b[0;34m(self, query, key, value, key_padding_mask, need_weights, attn_mask, average_attn_weights)\u001b[0m\n\u001b[1;32m   1156\u001b[0m     attn_output, attn_output_weights \u001b[39m=\u001b[39m F\u001b[39m.\u001b[39mmulti_head_attention_forward(\n\u001b[1;32m   1157\u001b[0m         query, key, value, \u001b[39mself\u001b[39m\u001b[39m.\u001b[39membed_dim, \u001b[39mself\u001b[39m\u001b[39m.\u001b[39mnum_heads,\n\u001b[1;32m   1158\u001b[0m         \u001b[39mself\u001b[39m\u001b[39m.\u001b[39min_proj_weight, \u001b[39mself\u001b[39m\u001b[39m.\u001b[39min_proj_bias,\n\u001b[0;32m   (...)\u001b[0m\n\u001b[1;32m   1164\u001b[0m         q_proj_weight\u001b[39m=\u001b[39m\u001b[39mself\u001b[39m\u001b[39m.\u001b[39mq_proj_weight, k_proj_weight\u001b[39m=\u001b[39m\u001b[39mself\u001b[39m\u001b[39m.\u001b[39mk_proj_weight,\n\u001b[1;32m   1165\u001b[0m         v_proj_weight\u001b[39m=\u001b[39m\u001b[39mself\u001b[39m\u001b[39m.\u001b[39mv_proj_weight, average_attn_weights\u001b[39m=\u001b[39maverage_attn_weights)\n\u001b[1;32m   1166\u001b[0m \u001b[39melse\u001b[39;00m:\n\u001b[0;32m-> 1167\u001b[0m     attn_output, attn_output_weights \u001b[39m=\u001b[39m F\u001b[39m.\u001b[39;49mmulti_head_attention_forward(\n\u001b[1;32m   1168\u001b[0m         query, key, value, \u001b[39mself\u001b[39;49m\u001b[39m.\u001b[39;49membed_dim, \u001b[39mself\u001b[39;49m\u001b[39m.\u001b[39;49mnum_heads,\n\u001b[1;32m   1169\u001b[0m         \u001b[39mself\u001b[39;49m\u001b[39m.\u001b[39;49min_proj_weight, \u001b[39mself\u001b[39;49m\u001b[39m.\u001b[39;49min_proj_bias,\n\u001b[1;32m   1170\u001b[0m         \u001b[39mself\u001b[39;49m\u001b[39m.\u001b[39;49mbias_k, \u001b[39mself\u001b[39;49m\u001b[39m.\u001b[39;49mbias_v, \u001b[39mself\u001b[39;49m\u001b[39m.\u001b[39;49madd_zero_attn,\n\u001b[1;32m   1171\u001b[0m         \u001b[39mself\u001b[39;49m\u001b[39m.\u001b[39;49mdropout, \u001b[39mself\u001b[39;49m\u001b[39m.\u001b[39;49mout_proj\u001b[39m.\u001b[39;49mweight, \u001b[39mself\u001b[39;49m\u001b[39m.\u001b[39;49mout_proj\u001b[39m.\u001b[39;49mbias,\n\u001b[1;32m   1172\u001b[0m         training\u001b[39m=\u001b[39;49m\u001b[39mself\u001b[39;49m\u001b[39m.\u001b[39;49mtraining,\n\u001b[1;32m   1173\u001b[0m         key_padding_mask\u001b[39m=\u001b[39;49mkey_padding_mask, need_weights\u001b[39m=\u001b[39;49mneed_weights,\n\u001b[1;32m   1174\u001b[0m         attn_mask\u001b[39m=\u001b[39;49mattn_mask, average_attn_weights\u001b[39m=\u001b[39;49maverage_attn_weights)\n\u001b[1;32m   1175\u001b[0m \u001b[39mif\u001b[39;00m \u001b[39mself\u001b[39m\u001b[39m.\u001b[39mbatch_first \u001b[39mand\u001b[39;00m is_batched:\n\u001b[1;32m   1176\u001b[0m     \u001b[39mreturn\u001b[39;00m attn_output\u001b[39m.\u001b[39mtranspose(\u001b[39m1\u001b[39m, \u001b[39m0\u001b[39m), attn_output_weights\n",
      "File \u001b[0;32m~/anaconda3/envs/LSTM/lib/python3.9/site-packages/torch/nn/functional.py:5165\u001b[0m, in \u001b[0;36mmulti_head_attention_forward\u001b[0;34m(query, key, value, embed_dim_to_check, num_heads, in_proj_weight, in_proj_bias, bias_k, bias_v, add_zero_attn, dropout_p, out_proj_weight, out_proj_bias, training, key_padding_mask, need_weights, attn_mask, use_separate_proj_weight, q_proj_weight, k_proj_weight, v_proj_weight, static_k, static_v, average_attn_weights)\u001b[0m\n\u001b[1;32m   5162\u001b[0m \u001b[39mif\u001b[39;00m dropout_p \u001b[39m>\u001b[39m \u001b[39m0.0\u001b[39m:\n\u001b[1;32m   5163\u001b[0m     attn_output_weights \u001b[39m=\u001b[39m dropout(attn_output_weights, p\u001b[39m=\u001b[39mdropout_p)\n\u001b[0;32m-> 5165\u001b[0m attn_output \u001b[39m=\u001b[39m torch\u001b[39m.\u001b[39;49mbmm(attn_output_weights, v)\n\u001b[1;32m   5167\u001b[0m attn_output \u001b[39m=\u001b[39m attn_output\u001b[39m.\u001b[39mtranspose(\u001b[39m0\u001b[39m, \u001b[39m1\u001b[39m)\u001b[39m.\u001b[39mcontiguous()\u001b[39m.\u001b[39mview(tgt_len \u001b[39m*\u001b[39m bsz, embed_dim)\n\u001b[1;32m   5168\u001b[0m attn_output \u001b[39m=\u001b[39m linear(attn_output, out_proj_weight, out_proj_bias)\n",
      "\u001b[0;31mKeyboardInterrupt\u001b[0m: "
     ]
    }
   ],
   "source": [
    "import TransformerModel\n",
    "import importlib\n",
    "importlib.reload(TransformerModel)\n",
    "\n",
    "model = TransformerModel.Transformer(num_features=src.shape[2], num_labels=train_labels.shape[1], input_seq_length=sequence_width, output_seq_length=label_width)\n",
    "# print(model)\n",
    "\n",
    "\n",
    "epochs = 10\n",
    "lr = 0.001\n",
    "l1_reg = 1e-9\n",
    "model.train(train_loader, val_loader, epochs, lr, l1_reg)"
   ]
  }
 ],
 "metadata": {
  "kernelspec": {
   "display_name": "LSTM",
   "language": "python",
   "name": "python3"
  },
  "language_info": {
   "codemirror_mode": {
    "name": "ipython",
    "version": 3
   },
   "file_extension": ".py",
   "mimetype": "text/x-python",
   "name": "python",
   "nbconvert_exporter": "python",
   "pygments_lexer": "ipython3",
   "version": "3.9.16"
  },
  "orig_nbformat": 4,
  "vscode": {
   "interpreter": {
    "hash": "3159e3b5aa562919176a089bbcda2fa6dcd8cffba80ba1d0a8857839d15440d4"
   }
  }
 },
 "nbformat": 4,
 "nbformat_minor": 2
}
