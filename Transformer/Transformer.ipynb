{
 "cells": [
  {
   "cell_type": "code",
   "execution_count": 1,
   "metadata": {},
   "outputs": [
    {
     "name": "stderr",
     "output_type": "stream",
     "text": [
      "/home/henrikhestnes/anaconda3/envs/LSTM/lib/python3.9/site-packages/tqdm/auto.py:21: TqdmWarning: IProgress not found. Please update jupyter and ipywidgets. See https://ipywidgets.readthedocs.io/en/stable/user_install.html\n",
      "  from .autonotebook import tqdm as notebook_tqdm\n"
     ]
    }
   ],
   "source": [
    "#python libraries\n",
    "import os\n",
    "import re\n",
    "from datetime import datetime\n",
    "import pytz\n",
    "import copy\n",
    "\n",
    "#other ML libraries\n",
    "import numpy as np\n",
    "import pandas as pd\n",
    "import torch\n",
    "import torch.nn as nn\n",
    "from torch.utils.data import DataLoader\n",
    "from torch.autograd import Variable\n",
    "from sklearn.preprocessing import StandardScaler, MinMaxScaler\n",
    "\n",
    "#ploting\n",
    "import matplotlib.pyplot as plt\n",
    "%matplotlib inline"
   ]
  },
  {
   "cell_type": "code",
   "execution_count": 2,
   "metadata": {},
   "outputs": [],
   "source": [
    "# Setting random seeds for reproducibility\n",
    "random_seed = 420\n",
    "np.random.seed(random_seed)\n",
    "_ = torch.manual_seed(random_seed)"
   ]
  },
  {
   "attachments": {},
   "cell_type": "markdown",
   "metadata": {},
   "source": [
    "### IMPORT PBM SIMULATION"
   ]
  },
  {
   "cell_type": "code",
   "execution_count": 3,
   "metadata": {},
   "outputs": [],
   "source": [
    "result_file = open(\"./../PBM/sim_july.csv\")\n",
    "\n",
    "#Skipping first two lines\n",
    "result_file.readline()\n",
    "result_file.readline()\n",
    "\n",
    "period = result_file.readline().split()[2:10]\n",
    "\n",
    "zone_names = result_file.readline().split()\n",
    "temp_map = {key:[] for key in zone_names}\n",
    "start_day, start_month, year = period[3].split('/')\n",
    "start_day, start_month, year = int(start_day), int(start_month), int(year) + 2000\n",
    "counter = 1\n",
    "while measured_temp := result_file.readline().split():\n",
    "    for i, value in enumerate(measured_temp):\n",
    "        if(i == 0):\n",
    "            time = value\n",
    "            hour, min = time.split('h')\n",
    "            hour, min = int(hour), int(min)\n",
    "            day = start_day + counter//24\n",
    "            if day > 31: #TODO: Brute force, FIX\n",
    "                day = 1\n",
    "            month = start_month + counter//(24*31)\n",
    "            datetime_obj = datetime(year=year, month=month, day=day, hour=hour, minute=min, tzinfo=pytz.timezone('Etc/GMT-2'))\n",
    "            temp_map[zone_names[i]].append(datetime_obj)\n",
    "        else:\n",
    "            temp = value\n",
    "            temp_map[zone_names[i]].append(float(temp))\n",
    "    counter += 1"
   ]
  },
  {
   "cell_type": "code",
   "execution_count": 4,
   "metadata": {},
   "outputs": [
    {
     "data": {
      "text/html": [
       "<div>\n",
       "<style scoped>\n",
       "    .dataframe tbody tr th:only-of-type {\n",
       "        vertical-align: middle;\n",
       "    }\n",
       "\n",
       "    .dataframe tbody tr th {\n",
       "        vertical-align: top;\n",
       "    }\n",
       "\n",
       "    .dataframe thead th {\n",
       "        text-align: right;\n",
       "    }\n",
       "</style>\n",
       "<table border=\"1\" class=\"dataframe\">\n",
       "  <thead>\n",
       "    <tr style=\"text-align: right;\">\n",
       "      <th></th>\n",
       "      <th>0BRoom_temperature</th>\n",
       "      <th>0BTLivingRoom_temperature</th>\n",
       "      <th>1Entrance_temperature</th>\n",
       "      <th>1GuestRoom_temperature</th>\n",
       "      <th>1MainRoom_temperature</th>\n",
       "      <th>1OutdoorEntrance_temperature</th>\n",
       "      <th>2LivingRoomCenter_temperature</th>\n",
       "      <th>2OfficeDesk_temperature</th>\n",
       "      <th>2Fireplace_temperature</th>\n",
       "      <th>2Cooking_temperature</th>\n",
       "    </tr>\n",
       "    <tr>\n",
       "      <th>timestamp</th>\n",
       "      <th></th>\n",
       "      <th></th>\n",
       "      <th></th>\n",
       "      <th></th>\n",
       "      <th></th>\n",
       "      <th></th>\n",
       "      <th></th>\n",
       "      <th></th>\n",
       "      <th></th>\n",
       "      <th></th>\n",
       "    </tr>\n",
       "  </thead>\n",
       "  <tbody>\n",
       "    <tr>\n",
       "      <th>2022-07-01 01:00:00+02:00</th>\n",
       "      <td>23.62</td>\n",
       "      <td>24.99</td>\n",
       "      <td>25.88</td>\n",
       "      <td>24.46</td>\n",
       "      <td>25.44</td>\n",
       "      <td>20.85</td>\n",
       "      <td>29.65</td>\n",
       "      <td>30.38</td>\n",
       "      <td>29.65</td>\n",
       "      <td>29.65</td>\n",
       "    </tr>\n",
       "    <tr>\n",
       "      <th>2022-07-01 02:00:00+02:00</th>\n",
       "      <td>23.41</td>\n",
       "      <td>24.81</td>\n",
       "      <td>25.78</td>\n",
       "      <td>24.29</td>\n",
       "      <td>25.79</td>\n",
       "      <td>20.45</td>\n",
       "      <td>28.90</td>\n",
       "      <td>29.73</td>\n",
       "      <td>28.90</td>\n",
       "      <td>28.90</td>\n",
       "    </tr>\n",
       "  </tbody>\n",
       "</table>\n",
       "</div>"
      ],
      "text/plain": [
       "                           0BRoom_temperature  0BTLivingRoom_temperature  \\\n",
       "timestamp                                                                  \n",
       "2022-07-01 01:00:00+02:00               23.62                      24.99   \n",
       "2022-07-01 02:00:00+02:00               23.41                      24.81   \n",
       "\n",
       "                           1Entrance_temperature  1GuestRoom_temperature  \\\n",
       "timestamp                                                                  \n",
       "2022-07-01 01:00:00+02:00                  25.88                   24.46   \n",
       "2022-07-01 02:00:00+02:00                  25.78                   24.29   \n",
       "\n",
       "                           1MainRoom_temperature  \\\n",
       "timestamp                                          \n",
       "2022-07-01 01:00:00+02:00                  25.44   \n",
       "2022-07-01 02:00:00+02:00                  25.79   \n",
       "\n",
       "                           1OutdoorEntrance_temperature  \\\n",
       "timestamp                                                 \n",
       "2022-07-01 01:00:00+02:00                         20.85   \n",
       "2022-07-01 02:00:00+02:00                         20.45   \n",
       "\n",
       "                           2LivingRoomCenter_temperature  \\\n",
       "timestamp                                                  \n",
       "2022-07-01 01:00:00+02:00                          29.65   \n",
       "2022-07-01 02:00:00+02:00                          28.90   \n",
       "\n",
       "                           2OfficeDesk_temperature  2Fireplace_temperature  \\\n",
       "timestamp                                                                    \n",
       "2022-07-01 01:00:00+02:00                    30.38                   29.65   \n",
       "2022-07-01 02:00:00+02:00                    29.73                   28.90   \n",
       "\n",
       "                           2Cooking_temperature  \n",
       "timestamp                                        \n",
       "2022-07-01 01:00:00+02:00                 29.65  \n",
       "2022-07-01 02:00:00+02:00                 28.90  "
      ]
     },
     "execution_count": 4,
     "metadata": {},
     "output_type": "execute_result"
    }
   ],
   "source": [
    "sim_temp = pd.DataFrame(temp_map)\n",
    "sim_temp[\"Time\"] = pd.to_datetime(sim_temp['Time'],  utc=True).dt.tz_convert('Etc/GMT-2')\n",
    "sim_temp = sim_temp.set_index('Time')\n",
    "\n",
    "rename_map = {\"Time\": \"timestamp\",\n",
    "              \"Ambientdb(C)(C)\": \"1OutdoorEntrance_temperature\",\n",
    "              \"gfSleepdbT(C)\": \"0BRoom_temperature\",\n",
    "              \"gfLivRoomdbT(C)\": \"0BTLivingRoom_temperature\",\n",
    "              \"1fEntrancedbT(C)\": \"1Entrance_temperature\",\n",
    "              \"1fSleep1dbT(C)\": \"1GuestRoom_temperature\",\n",
    "              \"1fSleep2dbT(C)\": \"1MainRoom_temperature\",\n",
    "              \"2fLivRoomdbT(C)\": \"2LivingRoomCenter_temperature\",\n",
    "              \"2fOfficedbT(C)\": \"2OfficeDesk_temperature\"}\n",
    "\n",
    "sim_temp = sim_temp.reset_index()[rename_map.keys()].rename(columns=rename_map).set_index(\"timestamp\").sort_index(axis=1)\n",
    "sim_temp['2Fireplace_temperature'] = sim_temp['2LivingRoomCenter_temperature']\n",
    "sim_temp['2Cooking_temperature'] = sim_temp['2LivingRoomCenter_temperature']\n",
    "sim_temp.head(2)"
   ]
  },
  {
   "attachments": {},
   "cell_type": "markdown",
   "metadata": {},
   "source": [
    "### DATA CLEANING"
   ]
  },
  {
   "cell_type": "code",
   "execution_count": 5,
   "metadata": {},
   "outputs": [],
   "source": [
    "#Import Disruptive & Netatmo Sensor Data\n",
    "\n",
    "# assign variables\n",
    "directory = './storedData/'\n",
    "sensor_data = pd.DataFrame()\n",
    "sensor_data['timestamp'] = None #in order to merge based on it \n",
    "\n",
    "measurement_types = [\"Door\", \"Water\", \"Humidity_temperature\", \"Humidity_humidity\", \n",
    "                     \"Humidifier_humidity\", \"Humidifier_temperature\",\"Temperature\",\n",
    "                     \"Hum_temperature\", \"Hum_humidity\"]\n",
    "discrete_measurement_types = [\"Door\", \"Water\"]\n",
    "\n",
    "\n",
    "# iterate over files in that directory and concat into 1 big dataframe based on timestamps\n",
    "for filename in os.listdir(directory): \n",
    "    file = os.path.join(directory, filename)\n",
    "    if os.path.isfile(file):    \n",
    "        df = pd.read_csv(file)\n",
    "        df.drop(columns=df.columns[0], inplace=True) # dropping unnamed coloumn for indexing in .cvs file\n",
    "\n",
    "        df['timestamp'] = pd.to_datetime(df['timestamp'],  utc=True)#, format=\"ISO8601\")#.dt.tz_convert('Europe/Rome') #set timezone correctly if not correct in local time\n",
    "        df.set_index(\"timestamp\", inplace=True)\n",
    "        for measurement_name in df.columns:\n",
    "            measurement_frame = df[measurement_name].to_frame()\n",
    "\n",
    "            measurement_name_list = re.findall(\"([A-Z0-9][^A-Z]*)\", measurement_name) # Splitting string on capital letters\n",
    "            measurement_type = measurement_name_list[-1]\n",
    "            if measurement_type not in measurement_types: #Temperature measurements does not have temperature in their name\n",
    "                measurement_type = \"Temperature\"\n",
    "                measurement_name_list.append(measurement_type)\n",
    "            #Renaming coloumn for consistent naming\n",
    "            coloumn_name = f\"{''.join(measurement_name_list[:-1])}_{measurement_type.lower()}\"\n",
    "            measurement_frame.rename(columns={measurement_frame.columns[0]: coloumn_name}, inplace=True)\n",
    "            # print(f\"key: {measurement_frame.columns[0]} Value: {coloumn_name}\")\n",
    "            if measurement_type in discrete_measurement_types:\n",
    "                #For Water Detection:\n",
    "                #NOT_PRESENT == No water detected = 0\n",
    "                #PRESENT     == water detected    = 1\n",
    "\n",
    "                #For Door Sensors: - this is because sensor changes state based on if it detects objects in front of it\n",
    "                #NOT_PRESENT == DOOR IS OPEN     = 0\n",
    "                #PRESENT     == DOOR IS CLOSED   = 1\n",
    "                \n",
    "                measurement_frame.replace(['NOT_PRESENT', 'PRESENT'],[0, 1], inplace=True)\n",
    "                measurement_frame = measurement_frame.resample('15T').ffill()\n",
    "            else: #Contious measurement\n",
    "                measurement_frame  = measurement_frame.resample('15T').mean().interpolate() #Resample to managable timestamps by taking mean of 5 minute slots and linear interpolating NaNs, i.e. 5, 10, 15, 20 minutes etc..\n",
    "\n",
    "    \n",
    "            sensor_data = pd.merge(sensor_data, measurement_frame, on='timestamp', how=\"outer\")  \n",
    "\n",
    "sensor_data.set_index(\"timestamp\", inplace=True)\n",
    "sensor_data.sort_index(axis=0, inplace=True) #Sorting by timestamp\n",
    "sensor_data.sort_index(axis=1, inplace=True) #Sorting columns alpabetically\n",
    "\n",
    "#Postprocesing the data in order to get rid of the NaN Values\n",
    "#ffill and fillna(0/1) to populate NaN values of the proximity with ffill and then set the values before first valid value to DOOR_CLOSED/NO_WATER\n",
    "sensor_data.loc[:, sensor_data.columns.str.endswith('door')] = sensor_data.loc[:, sensor_data.columns.str.endswith('door')].ffill().fillna(1)\n",
    "sensor_data.loc[:, sensor_data.columns.str.endswith('water')] = sensor_data.loc[:, sensor_data.columns.str.endswith('water')].ffill().fillna(0)\n",
    "\n",
    "\n",
    "# # #linearly interpolate temperature and humidity values:\n",
    "sensor_data.loc[:, sensor_data.columns.str.endswith('temperature')]  = sensor_data.loc[:, sensor_data.columns.str.endswith('temperature')].interpolate().bfill().ffill()\n",
    "sensor_data.loc[:, sensor_data.columns.str.endswith('humidity')]  = sensor_data.loc[:, sensor_data.columns.str.endswith('humidity')].interpolate().bfill().ffill()"
   ]
  },
  {
   "attachments": {},
   "cell_type": "markdown",
   "metadata": {},
   "source": [
    "### FEATURE ENGINEERING ###"
   ]
  },
  {
   "cell_type": "code",
   "execution_count": 6,
   "metadata": {},
   "outputs": [],
   "source": [
    "#Add hand-designed time-of-day and day-of-year features\n",
    "min_in_hour = 60\n",
    "min_in_day = 24*min_in_hour\n",
    "sensor_data['sin_daily'] = np.sin(2*np.pi*(sensor_data.index.minute + sensor_data.index.hour*min_in_hour)/min_in_day).values\n",
    "sensor_data['cos_daily'] = np.cos(2*np.pi*(sensor_data.index.minute + sensor_data.index.hour*min_in_hour)/min_in_day).values\n",
    "\n",
    "days_in_year = 365.2425\n",
    "sensor_data['sin_yearly'] = np.sin(2*np.pi*(sensor_data.index.day_of_year)/days_in_year).values\n",
    "sensor_data['cos_yearly'] = np.cos(2*np.pi*(sensor_data.index.day_of_year)/days_in_year).values\n",
    "\n",
    "days_in_week = 7\n",
    "sensor_data['sin_weekly'] = np.sin(2*np.pi*(sensor_data.index.day_of_week)/days_in_week).values\n",
    "sensor_data['cos_weekly'] = np.cos(2*np.pi*(sensor_data.index.day_of_week)/days_in_week).values"
   ]
  },
  {
   "attachments": {},
   "cell_type": "markdown",
   "metadata": {},
   "source": [
    "### DATA PREPROCESSING"
   ]
  },
  {
   "cell_type": "code",
   "execution_count": 7,
   "metadata": {},
   "outputs": [],
   "source": [
    "data = sensor_data.copy()\n",
    "cols_to_drop = ['1MainBR_hum_temperature', '2BalconyEntrance_temperature', '2LRWindow_temperature',\n",
    "                '2LivingRoomCenter_humidity_temperature', '2LivingRoom_humidifier_temperature'] #due to correlation\n",
    "data = data.drop(cols_to_drop, axis=1)\n",
    "\n",
    "data[\"0BTLivingRoom_temperature\"] = (data[\"0BTCeiling_temperature\"] + data[\"0BTFloor_temperature\"])/2\n",
    "data = data.drop(\"0BTFloor_temperature\", axis=1).drop(\"0BTCeiling_temperature\", axis=1).sort_index(axis=1)\n",
    "\n",
    "data[\"1Entrance_temperature\"] = (data[\"1Entrance1_temperature\"] + data[\"1StairBottom_temperature\"])/2\n",
    "data = data.drop(\"1Entrance1_temperature\", axis=1).drop(\"1StairBottom_temperature\", axis=1).sort_index(axis=1)\n",
    "\n",
    "drop_hum_and_water_data = True\n",
    "if drop_hum_and_water_data:\n",
    "    data = data.drop(data.columns[data.columns.str.endswith('humidity')], axis=1)\n",
    "    data = data.drop(data.columns[data.columns.str.endswith('water')], axis=1)"
   ]
  },
  {
   "cell_type": "code",
   "execution_count": 8,
   "metadata": {},
   "outputs": [
    {
     "name": "stdout",
     "output_type": "stream",
     "text": [
      "Shape of train_df = (33214, 22), Shape of val_df = (2976, 22), Shape of test_df = (2976, 22)\n",
      "Shape of labels = (33214, 10)\n"
     ]
    }
   ],
   "source": [
    "train_df_1 = data.loc[(data.index.month < 7) & (data.index.year == 2022)].copy()\n",
    "train_df_2 = data.loc[((data.index.month > 8) & (data.index.year == 2022))|(data.index.year == 2023)].copy()\n",
    "train_df = pd.concat([train_df_1, train_df_2])\n",
    "val_df = data.loc[(data.index.month == 8) & (data.index.year == 2022)].copy()\n",
    "test_df = data.loc[(data.index.month == 7) & (data.index.year == 2022)].copy()\n",
    "\n",
    "train_labels = train_df.loc[:, data.columns.str.endswith('temperature')].drop(\"1OutdoorEntrance_temperature\", axis=1).sort_index(axis=1)\n",
    "\n",
    "x_scaler = StandardScaler()\n",
    "y_scaler = StandardScaler()\n",
    "\n",
    "x_scaler.fit(train_df)\n",
    "y_scaler.fit(train_labels)\n",
    "\n",
    "train_df_1_scaled = x_scaler.transform(train_df_1)\n",
    "train_df_2_scaled = x_scaler.transform(train_df_2)\n",
    "train_df_1_scaled = pd.DataFrame(train_df_1_scaled, columns=train_df.columns)\n",
    "train_df_2_scaled = pd.DataFrame(train_df_2_scaled, columns=train_df.columns)\n",
    "val_df_scaled = x_scaler.transform(val_df)\n",
    "val_df_scaled = pd.DataFrame(val_df_scaled, columns=val_df.columns)\n",
    "test_df_scaled = x_scaler.transform(test_df)\n",
    "test_df_scaled = pd.DataFrame(test_df_scaled, columns=test_df.columns)\n",
    "\n",
    "\n",
    "print(f\"Shape of train_df = {train_df.shape}, Shape of val_df = {val_df.shape}, Shape of test_df = {test_df.shape}\")\n",
    "print(f\"Shape of labels = {train_labels.shape}\")"
   ]
  },
  {
   "cell_type": "code",
   "execution_count": 9,
   "metadata": {},
   "outputs": [
    {
     "data": {
      "text/html": [
       "<div>\n",
       "<style scoped>\n",
       "    .dataframe tbody tr th:only-of-type {\n",
       "        vertical-align: middle;\n",
       "    }\n",
       "\n",
       "    .dataframe tbody tr th {\n",
       "        vertical-align: top;\n",
       "    }\n",
       "\n",
       "    .dataframe thead th {\n",
       "        text-align: right;\n",
       "    }\n",
       "</style>\n",
       "<table border=\"1\" class=\"dataframe\">\n",
       "  <thead>\n",
       "    <tr style=\"text-align: right;\">\n",
       "      <th></th>\n",
       "      <th>0BGuest_door</th>\n",
       "      <th>0BRoom_temperature</th>\n",
       "      <th>0BTLivingRoom_temperature</th>\n",
       "      <th>0B_door</th>\n",
       "      <th>1Entrance_temperature</th>\n",
       "      <th>1GuestRoom_temperature</th>\n",
       "      <th>1MainRoom_temperature</th>\n",
       "      <th>1Main_door</th>\n",
       "      <th>1OutdoorEntrance_temperature</th>\n",
       "      <th>2Cooking_temperature</th>\n",
       "      <th>...</th>\n",
       "      <th>2LivingRoomCenter_temperature</th>\n",
       "      <th>2OfficeDesk_temperature</th>\n",
       "      <th>2Office_door</th>\n",
       "      <th>2Stair_temperature</th>\n",
       "      <th>cos_daily</th>\n",
       "      <th>cos_weekly</th>\n",
       "      <th>cos_yearly</th>\n",
       "      <th>sin_daily</th>\n",
       "      <th>sin_weekly</th>\n",
       "      <th>sin_yearly</th>\n",
       "    </tr>\n",
       "    <tr>\n",
       "      <th>timestamp</th>\n",
       "      <th></th>\n",
       "      <th></th>\n",
       "      <th></th>\n",
       "      <th></th>\n",
       "      <th></th>\n",
       "      <th></th>\n",
       "      <th></th>\n",
       "      <th></th>\n",
       "      <th></th>\n",
       "      <th></th>\n",
       "      <th></th>\n",
       "      <th></th>\n",
       "      <th></th>\n",
       "      <th></th>\n",
       "      <th></th>\n",
       "      <th></th>\n",
       "      <th></th>\n",
       "      <th></th>\n",
       "      <th></th>\n",
       "      <th></th>\n",
       "      <th></th>\n",
       "    </tr>\n",
       "  </thead>\n",
       "  <tbody>\n",
       "    <tr>\n",
       "      <th>2022-01-07 19:45:00+00:00</th>\n",
       "      <td>1.0</td>\n",
       "      <td>16.2</td>\n",
       "      <td>19.0875</td>\n",
       "      <td>1.0</td>\n",
       "      <td>19.65</td>\n",
       "      <td>16.25</td>\n",
       "      <td>14.9</td>\n",
       "      <td>1.0</td>\n",
       "      <td>-2.75</td>\n",
       "      <td>20.9</td>\n",
       "      <td>...</td>\n",
       "      <td>21.4</td>\n",
       "      <td>19.775</td>\n",
       "      <td>1.0</td>\n",
       "      <td>21.15</td>\n",
       "      <td>0.442289</td>\n",
       "      <td>-0.900969</td>\n",
       "      <td>0.992758</td>\n",
       "      <td>-0.896873</td>\n",
       "      <td>-0.433884</td>\n",
       "      <td>0.120129</td>\n",
       "    </tr>\n",
       "  </tbody>\n",
       "</table>\n",
       "<p>1 rows × 22 columns</p>\n",
       "</div>"
      ],
      "text/plain": [
       "                           0BGuest_door  0BRoom_temperature  \\\n",
       "timestamp                                                     \n",
       "2022-01-07 19:45:00+00:00           1.0                16.2   \n",
       "\n",
       "                           0BTLivingRoom_temperature  0B_door  \\\n",
       "timestamp                                                       \n",
       "2022-01-07 19:45:00+00:00                    19.0875      1.0   \n",
       "\n",
       "                           1Entrance_temperature  1GuestRoom_temperature  \\\n",
       "timestamp                                                                  \n",
       "2022-01-07 19:45:00+00:00                  19.65                   16.25   \n",
       "\n",
       "                           1MainRoom_temperature  1Main_door  \\\n",
       "timestamp                                                      \n",
       "2022-01-07 19:45:00+00:00                   14.9         1.0   \n",
       "\n",
       "                           1OutdoorEntrance_temperature  2Cooking_temperature  \\\n",
       "timestamp                                                                       \n",
       "2022-01-07 19:45:00+00:00                         -2.75                  20.9   \n",
       "\n",
       "                           ...  2LivingRoomCenter_temperature  \\\n",
       "timestamp                  ...                                  \n",
       "2022-01-07 19:45:00+00:00  ...                           21.4   \n",
       "\n",
       "                           2OfficeDesk_temperature  2Office_door  \\\n",
       "timestamp                                                          \n",
       "2022-01-07 19:45:00+00:00                   19.775           1.0   \n",
       "\n",
       "                           2Stair_temperature  cos_daily  cos_weekly  \\\n",
       "timestamp                                                              \n",
       "2022-01-07 19:45:00+00:00               21.15   0.442289   -0.900969   \n",
       "\n",
       "                           cos_yearly  sin_daily  sin_weekly  sin_yearly  \n",
       "timestamp                                                                 \n",
       "2022-01-07 19:45:00+00:00    0.992758  -0.896873   -0.433884    0.120129  \n",
       "\n",
       "[1 rows x 22 columns]"
      ]
     },
     "execution_count": 9,
     "metadata": {},
     "output_type": "execute_result"
    }
   ],
   "source": [
    "train_df.head(1)"
   ]
  },
  {
   "cell_type": "code",
   "execution_count": 10,
   "metadata": {},
   "outputs": [],
   "source": [
    "import WindowGenerator\n",
    "import importlib\n",
    "importlib.reload(WindowGenerator)\n",
    "\n",
    "measurements_per_day = 4*24\n",
    "sequence_width = measurements_per_day #24 hours\n",
    "label_width = 8 #2 hours\n",
    "shift = 0\n",
    "\n",
    "label_columns = train_labels.columns\n",
    "\n",
    "train_windows = WindowGenerator.WindowGenerator(sequence_width, label_width, shift)\n",
    "train_windows.add_data(train_df_1_scaled, label_columns)\n",
    "train_windows.add_data(train_df_2_scaled, label_columns)\n",
    "val_windows = WindowGenerator.WindowGenerator(sequence_width, label_width, shift)\n",
    "val_windows.add_data(val_df_scaled, label_columns)\n",
    "test_windows = WindowGenerator.WindowGenerator(sequence_width, label_width, shift)\n",
    "test_windows.add_data(test_df_scaled, label_columns)"
   ]
  },
  {
   "cell_type": "code",
   "execution_count": 11,
   "metadata": {},
   "outputs": [
    {
     "data": {
      "text/plain": [
       "<matplotlib.legend.Legend at 0x7f7425516c40>"
      ]
     },
     "execution_count": 11,
     "metadata": {},
     "output_type": "execute_result"
    },
    {
     "data": {
      "image/png": "[encoded data removed]",
      "text/plain": [
       "<Figure size 640x480 with 1 Axes>"
      ]
     },
     "metadata": {},
     "output_type": "display_data"
    }
   ],
   "source": [
    "n = 0\n",
    "src = train_windows[n][0][:,1]\n",
    "tgt = train_windows[n][1][:,0]\n",
    "label = train_windows[n][2][:,0]\n",
    "plt.plot(range(len(src)), src, label=\"src\")\n",
    "plt.plot(range(len(src), len(src)+len(label)), tgt, label=\"tgt\")\n",
    "plt.plot(range(len(src), len(src)+len(label)), label, label=\"label\")\n",
    "plt.legend()"
   ]
  },
  {
   "cell_type": "code",
   "execution_count": 12,
   "metadata": {},
   "outputs": [
    {
     "name": "stdout",
     "output_type": "stream",
     "text": [
      "Features shape: torch.Size([500, 96, 22])\n",
      "Target shape: torch.Size([500, 8, 10])\n",
      "Label shape: torch.Size([500, 8, 10])\n"
     ]
    }
   ],
   "source": [
    "batch_size = 500\n",
    "train_loader = DataLoader(train_windows, batch_size=batch_size, shuffle=True)\n",
    "val_loader = DataLoader(val_windows, batch_size=batch_size, shuffle=False)\n",
    "test_loader = DataLoader(test_windows, batch_size=len(test_windows), shuffle=False)\n",
    "\n",
    "src, tgt, label = next(iter(train_loader))\n",
    "print(\"Features shape:\", src.shape)\n",
    "print(\"Target shape:\", tgt.shape)\n",
    "print(\"Label shape:\", label.shape)"
   ]
  },
  {
   "attachments": {},
   "cell_type": "markdown",
   "metadata": {},
   "source": [
    "### TRANSFORMER"
   ]
  },
  {
   "cell_type": "code",
   "execution_count": 13,
   "metadata": {},
   "outputs": [
    {
     "name": "stdout",
     "output_type": "stream",
     "text": [
      "Batch: 0, Test Loss: 1.2764016389846802\n",
      "Batch: 1, Test Loss: 9.060714721679688\n"
     ]
    },
    {
     "ename": "KeyboardInterrupt",
     "evalue": "",
     "output_type": "error",
     "traceback": [
      "\u001b[0;31m---------------------------------------------------------------------------\u001b[0m",
      "\u001b[0;31mKeyboardInterrupt\u001b[0m                         Traceback (most recent call last)",
      "Cell \u001b[0;32mIn[13], line 12\u001b[0m\n\u001b[1;32m     10\u001b[0m lr \u001b[39m=\u001b[39m \u001b[39m0.001\u001b[39m\n\u001b[1;32m     11\u001b[0m l1_reg \u001b[39m=\u001b[39m \u001b[39m1e-9\u001b[39m\n\u001b[0;32m---> 12\u001b[0m model\u001b[39m.\u001b[39;49mtrain(train_loader, val_loader, epochs, lr, l1_reg)\n",
      "File \u001b[0;32m~/Documents/Master/Transformer/TransformerModel.py:88\u001b[0m, in \u001b[0;36mTransformer.train\u001b[0;34m(self, train_data, val_data, n_epochs, lr, l1_reg)\u001b[0m\n\u001b[1;32m     86\u001b[0m     cost \u001b[39m=\u001b[39m batch_mse \u001b[39m+\u001b[39m l1_reg \u001b[39m*\u001b[39m reg_loss\n\u001b[1;32m     87\u001b[0m     \u001b[39mprint\u001b[39m(\u001b[39mf\u001b[39m\u001b[39m'\u001b[39m\u001b[39mBatch: \u001b[39m\u001b[39m{\u001b[39;00mi\u001b[39m}\u001b[39;00m\u001b[39m, Test Loss: \u001b[39m\u001b[39m{\u001b[39;00mcost\u001b[39m.\u001b[39mitem()\u001b[39m}\u001b[39;00m\u001b[39m'\u001b[39m)\n\u001b[0;32m---> 88\u001b[0m     cost\u001b[39m.\u001b[39;49mbackward()\n\u001b[1;32m     89\u001b[0m     optimizer\u001b[39m.\u001b[39mstep()\n\u001b[1;32m     90\u001b[0m \u001b[39mprint\u001b[39m(\u001b[39mf\u001b[39m\u001b[39m'\u001b[39m\u001b[39mEpoch: \u001b[39m\u001b[39m{\u001b[39;00mepoch\u001b[39m+\u001b[39m\u001b[39m1\u001b[39m\u001b[39m}\u001b[39;00m\u001b[39m, Test loss: \u001b[39m\u001b[39m{\u001b[39;00mcost\u001b[39m.\u001b[39mitem()\u001b[39m}\u001b[39;00m\u001b[39m'\u001b[39m)\n",
      "File \u001b[0;32m~/anaconda3/envs/LSTM/lib/python3.9/site-packages/torch/_tensor.py:488\u001b[0m, in \u001b[0;36mTensor.backward\u001b[0;34m(self, gradient, retain_graph, create_graph, inputs)\u001b[0m\n\u001b[1;32m    478\u001b[0m \u001b[39mif\u001b[39;00m has_torch_function_unary(\u001b[39mself\u001b[39m):\n\u001b[1;32m    479\u001b[0m     \u001b[39mreturn\u001b[39;00m handle_torch_function(\n\u001b[1;32m    480\u001b[0m         Tensor\u001b[39m.\u001b[39mbackward,\n\u001b[1;32m    481\u001b[0m         (\u001b[39mself\u001b[39m,),\n\u001b[0;32m   (...)\u001b[0m\n\u001b[1;32m    486\u001b[0m         inputs\u001b[39m=\u001b[39minputs,\n\u001b[1;32m    487\u001b[0m     )\n\u001b[0;32m--> 488\u001b[0m torch\u001b[39m.\u001b[39;49mautograd\u001b[39m.\u001b[39;49mbackward(\n\u001b[1;32m    489\u001b[0m     \u001b[39mself\u001b[39;49m, gradient, retain_graph, create_graph, inputs\u001b[39m=\u001b[39;49minputs\n\u001b[1;32m    490\u001b[0m )\n",
      "File \u001b[0;32m~/anaconda3/envs/LSTM/lib/python3.9/site-packages/torch/autograd/__init__.py:197\u001b[0m, in \u001b[0;36mbackward\u001b[0;34m(tensors, grad_tensors, retain_graph, create_graph, grad_variables, inputs)\u001b[0m\n\u001b[1;32m    192\u001b[0m     retain_graph \u001b[39m=\u001b[39m create_graph\n\u001b[1;32m    194\u001b[0m \u001b[39m# The reason we repeat same the comment below is that\u001b[39;00m\n\u001b[1;32m    195\u001b[0m \u001b[39m# some Python versions print out the first line of a multi-line function\u001b[39;00m\n\u001b[1;32m    196\u001b[0m \u001b[39m# calls in the traceback and some print out the last line\u001b[39;00m\n\u001b[0;32m--> 197\u001b[0m Variable\u001b[39m.\u001b[39;49m_execution_engine\u001b[39m.\u001b[39;49mrun_backward(  \u001b[39m# Calls into the C++ engine to run the backward pass\u001b[39;49;00m\n\u001b[1;32m    198\u001b[0m     tensors, grad_tensors_, retain_graph, create_graph, inputs,\n\u001b[1;32m    199\u001b[0m     allow_unreachable\u001b[39m=\u001b[39;49m\u001b[39mTrue\u001b[39;49;00m, accumulate_grad\u001b[39m=\u001b[39;49m\u001b[39mTrue\u001b[39;49;00m)\n",
      "\u001b[0;31mKeyboardInterrupt\u001b[0m: "
     ]
    }
   ],
   "source": [
    "import TransformerModel\n",
    "import importlib\n",
    "importlib.reload(TransformerModel)\n",
    "\n",
    "model = TransformerModel.Transformer(num_features=train_df.shape[1], num_labels=train_labels.shape[1], input_seq_length=sequence_width, output_seq_length=label_width)\n",
    "# print(model)\n",
    "\n",
    "\n",
    "epochs = 10\n",
    "lr = 0.001\n",
    "l1_reg = 1e-9\n",
    "model.train(train_loader, val_loader, epochs, lr, l1_reg)"
   ]
  }
 ],
 "metadata": {
  "kernelspec": {
   "display_name": "LSTM",
   "language": "python",
   "name": "python3"
  },
  "language_info": {
   "codemirror_mode": {
    "name": "ipython",
    "version": 3
   },
   "file_extension": ".py",
   "mimetype": "text/x-python",
   "name": "python",
   "nbconvert_exporter": "python",
   "pygments_lexer": "ipython3",
   "version": "3.9.16"
  },
  "orig_nbformat": 4,
  "vscode": {
   "interpreter": {
    "hash": "3159e3b5aa562919176a089bbcda2fa6dcd8cffba80ba1d0a8857839d15440d4"
   }
  }
 },
 "nbformat": 4,
 "nbformat_minor": 2
}
