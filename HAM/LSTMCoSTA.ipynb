{
 "cells": [
  {
   "cell_type": "code",
   "execution_count": 1,
   "metadata": {},
   "outputs": [
    {
     "name": "stderr",
     "output_type": "stream",
     "text": [
      "/home/henrikhestnes/anaconda3/envs/LSTM/lib/python3.9/site-packages/tqdm/auto.py:21: TqdmWarning: IProgress not found. Please update jupyter and ipywidgets. See https://ipywidgets.readthedocs.io/en/stable/user_install.html\n",
      "  from .autonotebook import tqdm as notebook_tqdm\n"
     ]
    }
   ],
   "source": [
    "#python libraries\n",
    "import os, re, sys, copy, importlib\n",
    "\n",
    "#other ML libraries\n",
    "import numpy as np\n",
    "import pandas as pd\n",
    "import torch\n",
    "from torch import nn, optim\n",
    "from torch.utils.data import DataLoader, Dataset\n",
    "from torch.autograd import Variable\n",
    "from sklearn.preprocessing import StandardScaler, MinMaxScaler\n",
    "\n",
    "import LSTMCoSTA\n",
    "\n",
    "#ploting\n",
    "import matplotlib.pyplot as plt\n",
    "%matplotlib inline"
   ]
  },
  {
   "attachments": {},
   "cell_type": "markdown",
   "metadata": {},
   "source": [
    "### DATA CLEANING"
   ]
  },
  {
   "cell_type": "code",
   "execution_count": 2,
   "metadata": {},
   "outputs": [],
   "source": [
    "#Import Disruptive & Netatmo Sensor Data\n",
    "\n",
    "# assign variables\n",
    "directory = './storedData/'\n",
    "sensor_data = pd.DataFrame()\n",
    "sensor_data['timestamp'] = None #in order to merge based on it \n",
    "\n",
    "measurement_types = [\"Door\", \"Water\", \"Humidity_temperature\", \"Humidity_humidity\", \n",
    "                     \"Humidifier_humidity\", \"Humidifier_temperature\",\"Temperature\",\n",
    "                     \"Hum_temperature\", \"Hum_humidity\"]\n",
    "discrete_measurement_types = [\"Door\", \"Water\"]\n",
    "\n",
    "\n",
    "# iterate over files in that directory and concat into 1 big dataframe based on timestamps\n",
    "for filename in os.listdir(directory): \n",
    "    file = os.path.join(directory, filename)\n",
    "    if os.path.isfile(file):    \n",
    "        df = pd.read_csv(file)\n",
    "        df.drop(columns=df.columns[0], inplace=True) # dropping unnamed coloumn for indexing in .cvs file\n",
    "\n",
    "        df['timestamp'] = pd.to_datetime(df['timestamp'],  utc=True)#, format=\"ISO8601\")#.dt.tz_convert('Europe/Rome') #set timezone correctly if not correct in local time\n",
    "        df.set_index(\"timestamp\", inplace=True)\n",
    "        for measurement_name in df.columns:\n",
    "            measurement_frame = df[measurement_name].to_frame()\n",
    "\n",
    "            measurement_name_list = re.findall(\"([A-Z0-9][^A-Z]*)\", measurement_name) # Splitting string on capital letters\n",
    "            measurement_type = measurement_name_list[-1]\n",
    "            if measurement_type not in measurement_types: #Temperature measurements does not have temperature in their name\n",
    "                measurement_type = \"Temperature\"\n",
    "                measurement_name_list.append(measurement_type)\n",
    "            #Renaming coloumn for consistent naming\n",
    "            coloumn_name = f\"{''.join(measurement_name_list[:-1])}_{measurement_type.lower()}\"\n",
    "            measurement_frame.rename(columns={measurement_frame.columns[0]: coloumn_name}, inplace=True)\n",
    "            # print(f\"key: {measurement_frame.columns[0]} Value: {coloumn_name}\")\n",
    "            if measurement_type in discrete_measurement_types:\n",
    "                #For Water Detection:\n",
    "                #NOT_PRESENT == No water detected = 0\n",
    "                #PRESENT     == water detected    = 1\n",
    "\n",
    "                #For Door Sensors: - this is because sensor changes state based on if it detects objects in front of it\n",
    "                #NOT_PRESENT == DOOR IS OPEN     = 0\n",
    "                #PRESENT     == DOOR IS CLOSED   = 1\n",
    "                \n",
    "                measurement_frame.replace(['NOT_PRESENT', 'PRESENT'],[0, 1], inplace=True)\n",
    "                measurement_frame = measurement_frame.resample('15T').ffill()\n",
    "            else: #Contious measurement\n",
    "                measurement_frame  = measurement_frame.resample('15T').mean().interpolate() #Resample to managable timestamps by taking mean of 5 minute slots and linear interpolating NaNs, i.e. 5, 10, 15, 20 minutes etc..\n",
    "\n",
    "    \n",
    "            sensor_data = pd.merge(sensor_data, measurement_frame, on='timestamp', how=\"outer\")  \n",
    "\n",
    "sensor_data.set_index(\"timestamp\", inplace=True)\n",
    "sensor_data.sort_index(axis=0, inplace=True) #Sorting by timestamp\n",
    "sensor_data.sort_index(axis=1, inplace=True) #Sorting columns alpabetically\n",
    "\n",
    "#Postprocesing the data in order to get rid of the NaN Values\n",
    "#ffill and fillna(0/1) to populate NaN values of the proximity with ffill and then set the values before first valid value to DOOR_CLOSED/NO_WATER\n",
    "sensor_data.loc[:, sensor_data.columns.str.endswith('door')] = sensor_data.loc[:, sensor_data.columns.str.endswith('door')].ffill().fillna(1)\n",
    "sensor_data.loc[:, sensor_data.columns.str.endswith('water')] = sensor_data.loc[:, sensor_data.columns.str.endswith('water')].ffill().fillna(0)\n",
    "\n",
    "\n",
    "# # #linearly interpolate temperature and humidity values:\n",
    "sensor_data.loc[:, sensor_data.columns.str.endswith('temperature')]  = sensor_data.loc[:, sensor_data.columns.str.endswith('temperature')].interpolate().bfill().ffill()\n",
    "sensor_data.loc[:, sensor_data.columns.str.endswith('humidity')]  = sensor_data.loc[:, sensor_data.columns.str.endswith('humidity')].interpolate().bfill().ffill()"
   ]
  },
  {
   "attachments": {},
   "cell_type": "markdown",
   "metadata": {},
   "source": [
    "### FEATURE ENGINEERING ###"
   ]
  },
  {
   "cell_type": "code",
   "execution_count": 3,
   "metadata": {},
   "outputs": [],
   "source": [
    "#Add hand-designed time-of-day and day-of-year features\n",
    "min_in_hour = 60\n",
    "min_in_day = 24*min_in_hour\n",
    "sensor_data['sin_daily'] = np.sin(2*np.pi*(sensor_data.index.minute + sensor_data.index.hour*min_in_hour)/min_in_day).values\n",
    "sensor_data['cos_daily'] = np.cos(2*np.pi*(sensor_data.index.minute + sensor_data.index.hour*min_in_hour)/min_in_day).values\n",
    "\n",
    "days_in_year = 365.2425\n",
    "sensor_data['sin_yearly'] = np.sin(2*np.pi*(sensor_data.index.day_of_year)/days_in_year).values\n",
    "sensor_data['cos_yearly'] = np.cos(2*np.pi*(sensor_data.index.day_of_year)/days_in_year).values\n",
    "\n",
    "days_in_week = 7\n",
    "sensor_data['sin_weekly'] = np.sin(2*np.pi*(sensor_data.index.day_of_week)/days_in_week).values\n",
    "sensor_data['cos_weekly'] = np.cos(2*np.pi*(sensor_data.index.day_of_week)/days_in_week).values"
   ]
  },
  {
   "cell_type": "code",
   "execution_count": 4,
   "metadata": {},
   "outputs": [
    {
     "data": {
      "text/html": [
       "<div>\n",
       "<style scoped>\n",
       "    .dataframe tbody tr th:only-of-type {\n",
       "        vertical-align: middle;\n",
       "    }\n",
       "\n",
       "    .dataframe tbody tr th {\n",
       "        vertical-align: top;\n",
       "    }\n",
       "\n",
       "    .dataframe thead th {\n",
       "        text-align: right;\n",
       "    }\n",
       "</style>\n",
       "<table border=\"1\" class=\"dataframe\">\n",
       "  <thead>\n",
       "    <tr style=\"text-align: right;\">\n",
       "      <th></th>\n",
       "      <th>0BGuest_door</th>\n",
       "      <th>0BRoom_temperature</th>\n",
       "      <th>0BTCeiling_temperature</th>\n",
       "      <th>0BTFloor_temperature</th>\n",
       "      <th>0B_door</th>\n",
       "      <th>0Bathroom_water</th>\n",
       "      <th>1BathRoom_water</th>\n",
       "      <th>1Entrance1_temperature</th>\n",
       "      <th>1GuestRoom_temperature</th>\n",
       "      <th>1MainBR_hum_humidity</th>\n",
       "      <th>...</th>\n",
       "      <th>2LivingRoom_humidifier_temperature</th>\n",
       "      <th>2OfficeDesk_temperature</th>\n",
       "      <th>2Office_door</th>\n",
       "      <th>2Stair_temperature</th>\n",
       "      <th>sin_daily</th>\n",
       "      <th>cos_daily</th>\n",
       "      <th>sin_yearly</th>\n",
       "      <th>cos_yearly</th>\n",
       "      <th>sin_weekly</th>\n",
       "      <th>cos_weekly</th>\n",
       "    </tr>\n",
       "  </thead>\n",
       "  <tbody>\n",
       "    <tr>\n",
       "      <th>count</th>\n",
       "      <td>39166.000000</td>\n",
       "      <td>39166.000000</td>\n",
       "      <td>39166.000000</td>\n",
       "      <td>39166.000000</td>\n",
       "      <td>39166.000000</td>\n",
       "      <td>39166.000000</td>\n",
       "      <td>39166.000000</td>\n",
       "      <td>39166.000000</td>\n",
       "      <td>39166.000000</td>\n",
       "      <td>39166.000000</td>\n",
       "      <td>...</td>\n",
       "      <td>39166.000000</td>\n",
       "      <td>39166.000000</td>\n",
       "      <td>39166.000000</td>\n",
       "      <td>39166.000000</td>\n",
       "      <td>3.916600e+04</td>\n",
       "      <td>3.916600e+04</td>\n",
       "      <td>39166.000000</td>\n",
       "      <td>39166.000000</td>\n",
       "      <td>39166.000000</td>\n",
       "      <td>39166.000000</td>\n",
       "    </tr>\n",
       "    <tr>\n",
       "      <th>mean</th>\n",
       "      <td>0.731093</td>\n",
       "      <td>20.219920</td>\n",
       "      <td>20.493444</td>\n",
       "      <td>19.880145</td>\n",
       "      <td>0.159577</td>\n",
       "      <td>0.003396</td>\n",
       "      <td>0.113925</td>\n",
       "      <td>23.061776</td>\n",
       "      <td>18.888458</td>\n",
       "      <td>38.371860</td>\n",
       "      <td>...</td>\n",
       "      <td>21.596080</td>\n",
       "      <td>20.351772</td>\n",
       "      <td>0.398739</td>\n",
       "      <td>21.664779</td>\n",
       "      <td>4.776617e-05</td>\n",
       "      <td>-1.797791e-05</td>\n",
       "      <td>0.048966</td>\n",
       "      <td>0.089977</td>\n",
       "      <td>-0.004115</td>\n",
       "      <td>0.000289</td>\n",
       "    </tr>\n",
       "    <tr>\n",
       "      <th>std</th>\n",
       "      <td>0.443397</td>\n",
       "      <td>2.777353</td>\n",
       "      <td>2.358416</td>\n",
       "      <td>2.570392</td>\n",
       "      <td>0.366218</td>\n",
       "      <td>0.058175</td>\n",
       "      <td>0.317725</td>\n",
       "      <td>1.703731</td>\n",
       "      <td>3.133083</td>\n",
       "      <td>9.052182</td>\n",
       "      <td>...</td>\n",
       "      <td>2.549447</td>\n",
       "      <td>3.360557</td>\n",
       "      <td>0.489645</td>\n",
       "      <td>2.543805</td>\n",
       "      <td>7.071023e-01</td>\n",
       "      <td>7.071294e-01</td>\n",
       "      <td>0.686751</td>\n",
       "      <td>0.719656</td>\n",
       "      <td>0.707943</td>\n",
       "      <td>0.706275</td>\n",
       "    </tr>\n",
       "    <tr>\n",
       "      <th>min</th>\n",
       "      <td>0.000000</td>\n",
       "      <td>10.250000</td>\n",
       "      <td>15.100000</td>\n",
       "      <td>14.150000</td>\n",
       "      <td>0.000000</td>\n",
       "      <td>0.000000</td>\n",
       "      <td>0.000000</td>\n",
       "      <td>15.300000</td>\n",
       "      <td>5.700000</td>\n",
       "      <td>19.000000</td>\n",
       "      <td>...</td>\n",
       "      <td>10.550000</td>\n",
       "      <td>10.525000</td>\n",
       "      <td>0.000000</td>\n",
       "      <td>10.950000</td>\n",
       "      <td>-1.000000e+00</td>\n",
       "      <td>-1.000000e+00</td>\n",
       "      <td>-0.999999</td>\n",
       "      <td>-0.999979</td>\n",
       "      <td>-0.974928</td>\n",
       "      <td>-0.900969</td>\n",
       "    </tr>\n",
       "    <tr>\n",
       "      <th>25%</th>\n",
       "      <td>0.000000</td>\n",
       "      <td>18.800000</td>\n",
       "      <td>18.750000</td>\n",
       "      <td>18.050000</td>\n",
       "      <td>0.000000</td>\n",
       "      <td>0.000000</td>\n",
       "      <td>0.000000</td>\n",
       "      <td>22.300000</td>\n",
       "      <td>17.650000</td>\n",
       "      <td>31.000000</td>\n",
       "      <td>...</td>\n",
       "      <td>20.100000</td>\n",
       "      <td>18.383333</td>\n",
       "      <td>0.000000</td>\n",
       "      <td>20.250000</td>\n",
       "      <td>-7.071068e-01</td>\n",
       "      <td>-7.071068e-01</td>\n",
       "      <td>-0.639648</td>\n",
       "      <td>-0.641690</td>\n",
       "      <td>-0.781831</td>\n",
       "      <td>-0.900969</td>\n",
       "    </tr>\n",
       "    <tr>\n",
       "      <th>50%</th>\n",
       "      <td>1.000000</td>\n",
       "      <td>20.200000</td>\n",
       "      <td>20.483333</td>\n",
       "      <td>19.750000</td>\n",
       "      <td>0.000000</td>\n",
       "      <td>0.000000</td>\n",
       "      <td>0.000000</td>\n",
       "      <td>23.450000</td>\n",
       "      <td>19.200000</td>\n",
       "      <td>37.000000</td>\n",
       "      <td>...</td>\n",
       "      <td>21.550000</td>\n",
       "      <td>20.200000</td>\n",
       "      <td>0.000000</td>\n",
       "      <td>21.583333</td>\n",
       "      <td>1.224647e-16</td>\n",
       "      <td>-1.836970e-16</td>\n",
       "      <td>0.164758</td>\n",
       "      <td>0.176443</td>\n",
       "      <td>0.000000</td>\n",
       "      <td>-0.222521</td>\n",
       "    </tr>\n",
       "    <tr>\n",
       "      <th>75%</th>\n",
       "      <td>1.000000</td>\n",
       "      <td>22.000000</td>\n",
       "      <td>22.100000</td>\n",
       "      <td>21.650000</td>\n",
       "      <td>0.000000</td>\n",
       "      <td>0.000000</td>\n",
       "      <td>0.000000</td>\n",
       "      <td>24.250000</td>\n",
       "      <td>20.925000</td>\n",
       "      <td>45.000000</td>\n",
       "      <td>...</td>\n",
       "      <td>23.300000</td>\n",
       "      <td>22.366667</td>\n",
       "      <td>1.000000</td>\n",
       "      <td>23.116667</td>\n",
       "      <td>7.071068e-01</td>\n",
       "      <td>7.071068e-01</td>\n",
       "      <td>0.681936</td>\n",
       "      <td>0.811856</td>\n",
       "      <td>0.781831</td>\n",
       "      <td>0.623490</td>\n",
       "    </tr>\n",
       "    <tr>\n",
       "      <th>max</th>\n",
       "      <td>1.000000</td>\n",
       "      <td>27.450000</td>\n",
       "      <td>31.550000</td>\n",
       "      <td>27.750000</td>\n",
       "      <td>1.000000</td>\n",
       "      <td>1.000000</td>\n",
       "      <td>1.000000</td>\n",
       "      <td>26.900000</td>\n",
       "      <td>28.200000</td>\n",
       "      <td>67.000000</td>\n",
       "      <td>...</td>\n",
       "      <td>30.700000</td>\n",
       "      <td>32.425000</td>\n",
       "      <td>1.000000</td>\n",
       "      <td>30.000000</td>\n",
       "      <td>1.000000e+00</td>\n",
       "      <td>1.000000e+00</td>\n",
       "      <td>0.999986</td>\n",
       "      <td>0.999991</td>\n",
       "      <td>0.974928</td>\n",
       "      <td>1.000000</td>\n",
       "    </tr>\n",
       "  </tbody>\n",
       "</table>\n",
       "<p>8 rows × 35 columns</p>\n",
       "</div>"
      ],
      "text/plain": [
       "       0BGuest_door  0BRoom_temperature  0BTCeiling_temperature  \\\n",
       "count  39166.000000        39166.000000            39166.000000   \n",
       "mean       0.731093           20.219920               20.493444   \n",
       "std        0.443397            2.777353                2.358416   \n",
       "min        0.000000           10.250000               15.100000   \n",
       "25%        0.000000           18.800000               18.750000   \n",
       "50%        1.000000           20.200000               20.483333   \n",
       "75%        1.000000           22.000000               22.100000   \n",
       "max        1.000000           27.450000               31.550000   \n",
       "\n",
       "       0BTFloor_temperature       0B_door  0Bathroom_water  1BathRoom_water  \\\n",
       "count          39166.000000  39166.000000     39166.000000     39166.000000   \n",
       "mean              19.880145      0.159577         0.003396         0.113925   \n",
       "std                2.570392      0.366218         0.058175         0.317725   \n",
       "min               14.150000      0.000000         0.000000         0.000000   \n",
       "25%               18.050000      0.000000         0.000000         0.000000   \n",
       "50%               19.750000      0.000000         0.000000         0.000000   \n",
       "75%               21.650000      0.000000         0.000000         0.000000   \n",
       "max               27.750000      1.000000         1.000000         1.000000   \n",
       "\n",
       "       1Entrance1_temperature  1GuestRoom_temperature  1MainBR_hum_humidity  \\\n",
       "count            39166.000000            39166.000000          39166.000000   \n",
       "mean                23.061776               18.888458             38.371860   \n",
       "std                  1.703731                3.133083              9.052182   \n",
       "min                 15.300000                5.700000             19.000000   \n",
       "25%                 22.300000               17.650000             31.000000   \n",
       "50%                 23.450000               19.200000             37.000000   \n",
       "75%                 24.250000               20.925000             45.000000   \n",
       "max                 26.900000               28.200000             67.000000   \n",
       "\n",
       "       ...  2LivingRoom_humidifier_temperature  2OfficeDesk_temperature  \\\n",
       "count  ...                        39166.000000             39166.000000   \n",
       "mean   ...                           21.596080                20.351772   \n",
       "std    ...                            2.549447                 3.360557   \n",
       "min    ...                           10.550000                10.525000   \n",
       "25%    ...                           20.100000                18.383333   \n",
       "50%    ...                           21.550000                20.200000   \n",
       "75%    ...                           23.300000                22.366667   \n",
       "max    ...                           30.700000                32.425000   \n",
       "\n",
       "       2Office_door  2Stair_temperature     sin_daily     cos_daily  \\\n",
       "count  39166.000000        39166.000000  3.916600e+04  3.916600e+04   \n",
       "mean       0.398739           21.664779  4.776617e-05 -1.797791e-05   \n",
       "std        0.489645            2.543805  7.071023e-01  7.071294e-01   \n",
       "min        0.000000           10.950000 -1.000000e+00 -1.000000e+00   \n",
       "25%        0.000000           20.250000 -7.071068e-01 -7.071068e-01   \n",
       "50%        0.000000           21.583333  1.224647e-16 -1.836970e-16   \n",
       "75%        1.000000           23.116667  7.071068e-01  7.071068e-01   \n",
       "max        1.000000           30.000000  1.000000e+00  1.000000e+00   \n",
       "\n",
       "         sin_yearly    cos_yearly    sin_weekly    cos_weekly  \n",
       "count  39166.000000  39166.000000  39166.000000  39166.000000  \n",
       "mean       0.048966      0.089977     -0.004115      0.000289  \n",
       "std        0.686751      0.719656      0.707943      0.706275  \n",
       "min       -0.999999     -0.999979     -0.974928     -0.900969  \n",
       "25%       -0.639648     -0.641690     -0.781831     -0.900969  \n",
       "50%        0.164758      0.176443      0.000000     -0.222521  \n",
       "75%        0.681936      0.811856      0.781831      0.623490  \n",
       "max        0.999986      0.999991      0.974928      1.000000  \n",
       "\n",
       "[8 rows x 35 columns]"
      ]
     },
     "execution_count": 4,
     "metadata": {},
     "output_type": "execute_result"
    }
   ],
   "source": [
    "sensor_data.describe()"
   ]
  },
  {
   "attachments": {},
   "cell_type": "markdown",
   "metadata": {},
   "source": [
    "### DATA PREPROCESSING"
   ]
  },
  {
   "cell_type": "code",
   "execution_count": 5,
   "metadata": {},
   "outputs": [],
   "source": [
    "data = sensor_data.copy()\n",
    "cols_to_drop = ['1MainBR_hum_temperature', '2BalconyEntrance_temperature', '2LRWindow_temperature',\n",
    "                '2LivingRoomCenter_humidity_temperature', '2LivingRoom_humidifier_temperature'] #due to correlation\n",
    "data = data.drop(cols_to_drop, axis=1)\n",
    "\n",
    "data[\"0BTLivingRoom_temperature\"] = (data[\"0BTCeiling_temperature\"] + data[\"0BTFloor_temperature\"])/2\n",
    "data = data.drop(\"0BTFloor_temperature\", axis=1).drop(\"0BTCeiling_temperature\", axis=1).sort_index(axis=1)\n",
    "\n",
    "data[\"1Entrance_temperature\"] = (data[\"1Entrance1_temperature\"] + data[\"1StairBottom_temperature\"])/2\n",
    "data = data.drop(\"1Entrance1_temperature\", axis=1).drop(\"1StairBottom_temperature\", axis=1).sort_index(axis=1)\n",
    "\n",
    "drop_hum_and_water_data = True\n",
    "if drop_hum_and_water_data:\n",
    "    data = data.drop(data.columns[data.columns.str.endswith('humidity')], axis=1)\n",
    "    data = data.drop(data.columns[data.columns.str.endswith('water')], axis=1)"
   ]
  },
  {
   "cell_type": "code",
   "execution_count": 6,
   "metadata": {},
   "outputs": [],
   "source": [
    "train_df_1 = data.loc[(data.index.month < 7) & (data.index.year == 2022)].copy()\n",
    "train_df_2 = data.loc[((data.index.month > 8) & (data.index.year == 2022))|(data.index.year == 2023)].copy()\n",
    "val_df = data.loc[(data.index.month == 8) & (data.index.year == 2022)].copy()\n",
    "test_df = data.loc[(data.index.month == 7) & (data.index.year == 2022)].copy()\n",
    "\n",
    "outdoor_temp_columns = data.columns.str.endswith('OutdoorEntrance_temperature')\n",
    "indoor_temp_columns = data.columns.str.endswith('temperature') & np.logical_not(outdoor_temp_columns)\n",
    "door_columns = data.columns.str.endswith('door')\n",
    "timing_columns = data.columns.str.startswith('sin_') | data.columns.str.startswith('cos_')\n",
    "\n",
    "x_scaler = StandardScaler().fit(pd.concat([train_df_1, train_df_2, val_df]))\n",
    "y_scaler = StandardScaler().fit(pd.concat([train_df_1.loc[:, indoor_temp_columns], train_df_2.loc[:, indoor_temp_columns], val_df.loc[:, indoor_temp_columns]]))"
   ]
  },
  {
   "cell_type": "code",
   "execution_count": 7,
   "metadata": {},
   "outputs": [],
   "source": [
    "import HAMDataset\n",
    "importlib.reload(HAMDataset)\n",
    "warmup_length = 96\n",
    "label_length = 8\n",
    "train_data = HAMDataset.Dataset(label_length, warmup_length, indoor_temp_columns, outdoor_temp_columns, door_columns, timing_columns, is_lstm=True, x_scaler=x_scaler, y_scaler=y_scaler)\n",
    "train_data.add_data(train_df_1)\n",
    "train_data.add_data(train_df_2)\n",
    "train_loader = DataLoader(train_data, batch_size=10, shuffle=True)\n",
    "\n",
    "val_data = HAMDataset.Dataset(label_length, warmup_length, indoor_temp_columns, outdoor_temp_columns, door_columns, timing_columns, is_lstm=True, x_scaler=x_scaler, y_scaler=y_scaler)\n",
    "val_data.add_data(val_df)\n",
    "val_loader = DataLoader(val_data, batch_size=10, shuffle=False)\n",
    "\n",
    "test_data = HAMDataset.Dataset(label_length, warmup_length, indoor_temp_columns, outdoor_temp_columns, door_columns, timing_columns, is_lstm=True, x_scaler=x_scaler, y_scaler=y_scaler)\n",
    "test_data.add_data(test_df)\n",
    "test_loader = DataLoader(test_data, batch_size=1, shuffle=False)"
   ]
  },
  {
   "cell_type": "code",
   "execution_count": 8,
   "metadata": {},
   "outputs": [],
   "source": [
    "warmup_indoor, warmup_outdoor, indoor_temp, outdoor_temp, door, timing, labels, lstm_input = next(iter(train_loader))"
   ]
  },
  {
   "attachments": {},
   "cell_type": "markdown",
   "metadata": {},
   "source": [
    "### DEFINE PBM MODEL"
   ]
  },
  {
   "cell_type": "code",
   "execution_count": 9,
   "metadata": {},
   "outputs": [],
   "source": [
    "import asset\n",
    "import PBM\n",
    "import importlib\n",
    "importlib.reload(PBM)\n",
    "importlib.reload(asset)\n",
    "\n",
    "gfBedroom = asset.Zone(\"gfBedroom\",       [0.34146, 1.36584, 1.36584, 0.34146],           [41652.8784, 402850.8])\n",
    "gfLivingroom = asset.Zone(\"gfLivingroom\", [0.598068, 2.392272, 2.392272, 0.598068],       [157355.3184, 747837.36])\n",
    "stairs = asset.Zone(\"stairs\",             [0.4067498, 1.6269992, 1.6269992, 0.4067498],   [69035.7892, 647290.4264])\n",
    "gfBath = asset.Zone(\"gfBath\",             [0.2705976, 1.0823904, 1.0823904, 0.2705976],   [44159.7646, 434698.992])\n",
    "gfStorage = asset.Zone(\"gfStorage\",       [0.2901384, 1.1605536, 1.1605536, 0.2901384],   [49173.537, 466090.128])\n",
    "f1Guestroom = asset.Zone(\"f1Guestroom\",   [0.366948, 1.467792, 1.467792, 0.366948],       [49944.8866, 443795.76])\n",
    "f1Mainroom = asset.Zone(\"f1Mainroom\",     [0.421254, 1.685016, 1.685016, 0.421254],       [66721.7404, 525431.88])\n",
    "f1Sleep3 = asset.Zone(\"f1Sleep3\",         [0.370791, 1.483164, 1.483164, 0.370791],       [49559.2118, 486390.42])\n",
    "f1Bath = asset.Zone(\"f1Bath\",             [0.172752, 0.691008, 0.691008, 0.172752],       [37796.1304, 277515.84])\n",
    "f1Storage = asset.Zone(\"f1Storage\",       [0.423831, 1.695324, 1.695324, 0.423831],       [26033.049, 673890.636])\n",
    "f1Entrance = asset.Zone(\"f1Entrance\",     [0.123192, 0.492768, 0.492768, 0.123192],       [88512.3666, 197900.64])\n",
    "f2Livingroom = asset.Zone(\"f2Livingroom\", [2.6243349, 10.4973396, 10.4973396, 2.6243349], [345178.946, 3373189.904])\n",
    "f2Office = asset.Zone(\"f2Office\",         [0.3805635, 1.522254, 1.522254, 0.3805635],     [42424.228, 462828.5916])\n",
    "zones = [gfBedroom, gfLivingroom, stairs, gfBath, gfStorage, f1Guestroom, f1Mainroom, f1Sleep3, f1Bath, f1Storage, f1Entrance, f2Livingroom, f2Office]\n",
    "\n",
    "connections =  [{\"rooms\": [\"gfBedroom\", \"gfLivingroom\"],    \"R\": 10.35216, \"C\": 179373.6}, \n",
    "                {\"rooms\": [\"gfBedroom\", \"stairs\"],          \"R\": 4.43664, \"C\": 76874.4},\n",
    "                {\"rooms\": [\"gfBedroom\", \"f1Guestroom\"],     \"R\": 2.016, \"C\": 207012.6},\n",
    "                {\"rooms\": [\"gfLivingroom\", \"gfBath\"],       \"R\": 9.785256, \"C\": 169550.76},\n",
    "                {\"rooms\": [\"gfLivingroom\", \"stairs\"],       \"R\": 38.10888, \"C\": 0},\n",
    "                {\"rooms\": [\"gfLivingroom\", \"f1Entrance\"],   \"R\": 2.7216, \"C\": 279467.01},\n",
    "                {\"rooms\": [\"gfLivingroom\", \"f1Mainroom\"],   \"R\": 3.2256, \"C\": 331220.16},\n",
    "                {\"rooms\": [\"gfBath\", \"gfStorage\"],          \"R\": 5.91552, \"C\": 102499.2},\n",
    "                {\"rooms\": [\"gfBath\", \"f1Sleep3\"],           \"R\": 1.12896, \"C\": 115927.056},\n",
    "                {\"rooms\": [\"gfStorage\", \"stairs\"],          \"R\": 4.43664, \"C\": 76874.4},\n",
    "                {\"rooms\": [\"gfStorage\", \"f1Bath\"],          \"R\": 1.82784, \"C\": 187691.424},\n",
    "                {\"rooms\": [\"f1Guestroom\", \"f1Mainroom\"],    \"R\": 7.3944, \"C\": 128124},\n",
    "                {\"rooms\": [\"f1Guestroom\", \"f1Entrance\"],    \"R\": 4.43664, \"C\": 76874.4},\n",
    "                {\"rooms\": [\"f1Guestroom\", \"stairs\"],        \"R\": 4.43664, \"C\": 76874.4},\n",
    "                {\"rooms\": [\"f1Guestroom\", \"f2Livingroom\"],  \"R\": 2.4192, \"C\": 248415.12},\n",
    "                {\"rooms\": [\"f1Mainroom\", \"f1Sleep3\"],       \"R\": 5.17608, \"C\": 89686.8},\n",
    "                {\"rooms\": [\"f1Mainroom\", \"f1Entrance\"],     \"R\": 6.65496, \"C\": 115311.6},\n",
    "                {\"rooms\": [\"f1Mainroom\", \"f2Livingroom\"],   \"R\": 3.2256, \"C\": 331220.16},\n",
    "                {\"rooms\": [\"f1Sleep3\", \"f1Entrance\"],       \"R\": 12.57048, \"C\": 217810.8},\n",
    "                {\"rooms\": [\"f1Sleep3\", \"f2Livingroom\"],     \"R\": 2.39904, \"C\": 246344.994},\n",
    "                {\"rooms\": [\"f1Entrance\", \"f1Bath\"],         \"R\": 3.94368, \"C\": 68332.8},\n",
    "                {\"rooms\": [\"f1Entrance\", \"stairs\"],         \"R\": 38.10888, \"C\": 0},\n",
    "                {\"rooms\": [\"f1Entrance\", \"f2Livingroom\"],   \"R\": 4.28064, \"C\": 439556.754},\n",
    "                {\"rooms\": [\"f1Bath\", \"f1Storage\"],          \"R\": 0.72216, \"C\": 116010.72},\n",
    "                {\"rooms\": [\"f1Bath\", \"stairs\"],             \"R\": 4.43664, \"C\": 76874.4},\n",
    "                {\"rooms\": [\"f1Bath\", \"f2Office\"],           \"R\": 1.82784, \"C\": 187691.424},\n",
    "                {\"rooms\": [\"f2Livingroom\", \"f2Office\"],     \"R\": 12.089844, \"C\": 209482.74},\n",
    "                {\"rooms\": [\"f2Livingroom\", \"stairs\"],       \"R\": 43.131254, \"C\": 0},\n",
    "                {\"rooms\": [\"f2Office\", \"stairs\"],           \"R\": 4.729335, \"C\": 81945.975}]\n",
    "\n",
    "house = asset.Asset(zones, connections)\n",
    "\n",
    "thermoPBM = PBM.thermoPBM(house)"
   ]
  },
  {
   "cell_type": "code",
   "execution_count": 10,
   "metadata": {},
   "outputs": [],
   "source": [
    "pbm_out = torch.zeros((test_df.shape[0]-96-8-1,  13))\n",
    "pbm_out_wall = torch.zeros((test_df.shape[0]-96-8-1, 13))\n",
    "true = torch.zeros((test_df.shape[0]-96-8-1, 13))\n",
    "\n",
    "delta_t = 60\n",
    "N = 15\n",
    "\n",
    "for i, (warmup_indoor, warmup_outdoor, indoor_temp, outdoor_temp, door, timing, labels, lstm_input) in enumerate(test_loader):\n",
    "    if i == 0:\n",
    "        T_room = LSTMCoSTA.pbm_temp_from_sensor(indoor_temp)\n",
    "        T_wall = torch.zeros_like(T_room)\n",
    "    \n",
    "    for _ in range(N):\n",
    "        T_room, T_wall = thermoPBM(T_room, T_wall, outdoor_temp[0, 0], delta_t)\n",
    "    \n",
    "    pbm_out[i] = T_room\n",
    "    pbm_out_wall[i] = T_wall\n",
    "    true[i] = LSTMCoSTA.pbm_temp_from_sensor(indoor_temp)\n"
   ]
  },
  {
   "cell_type": "code",
   "execution_count": 11,
   "metadata": {},
   "outputs": [
    {
     "name": "stdout",
     "output_type": "stream",
     "text": [
      "MAE: 1.4330971240997314\n"
     ]
    },
    {
     "data": {
      "image/png": "[encoded data removed]",
      "text/plain": [
       "<Figure size 640x480 with 1 Axes>"
      ]
     },
     "metadata": {},
     "output_type": "display_data"
    }
   ],
   "source": [
    "plt.plot(pbm_out.detach()[:, 0], label=\"pbm\")\n",
    "# plt.plot(pbm_out_wall.detach()[:, 0], label=\"pbm wall\")\n",
    "plt.plot(true[:, 0], label=\"true\")\n",
    "plt.legend()\n",
    "print(f'MAE: {torch.mean(torch.abs(true[:, 0] - pbm_out[:, 0]))}')"
   ]
  },
  {
   "attachments": {},
   "cell_type": "markdown",
   "metadata": {},
   "source": [
    "### CoSTA"
   ]
  },
  {
   "cell_type": "code",
   "execution_count": 12,
   "metadata": {},
   "outputs": [],
   "source": [
    "from prettytable import PrettyTable\n",
    "\n",
    "def count_parameters(model):\n",
    "    table = PrettyTable([\"Modules\", \"Parameters\"])\n",
    "    total_params = 0\n",
    "    for name, parameter in model.named_parameters():\n",
    "        if not parameter.requires_grad: continue\n",
    "        params = parameter.numel()\n",
    "        table.add_row([name, params])\n",
    "        total_params+=params\n",
    "    print(table)\n",
    "    print(f\"Total Trainable Params: {total_params}\")\n",
    "    return total_params"
   ]
  },
  {
   "cell_type": "code",
   "execution_count": 13,
   "metadata": {},
   "outputs": [],
   "source": [
    "import LSTMModel\n",
    "importlib.reload(LSTMModel)\n",
    "importlib.reload(PBM)\n",
    "\n",
    "house = asset.Asset(zones, connections)\n",
    "thermoPBM = PBM.thermoPBM(house)"
   ]
  },
  {
   "cell_type": "code",
   "execution_count": 14,
   "metadata": {},
   "outputs": [],
   "source": [
    "importlib.reload(LSTMModel)\n",
    "importlib.reload(LSTMCoSTA)\n",
    "\n",
    "NNModel = LSTMModel.Net(input_size=22, hidden_size=64, output_shape=26,\n",
    "                      num_lstm_layers=1, linear_layers=[90, 64, 64], \n",
    "                      bidir=False, dropout_p=0.2)\n",
    "\n",
    "CoSTA = LSTMCoSTA.LSTMCoSTA(thermoPBM, NNModel)\n",
    "\n",
    "# count_parameters(CoSTA)\n",
    "\n",
    "epochs = 1000\n",
    "lr = 0.001\n",
    "l2_reg = 0.001\n",
    "\n",
    "CoSTA.train(train_loader, val_loader, epochs, lr, l2_reg)"
   ]
  },
  {
   "cell_type": "code",
   "execution_count": null,
   "metadata": {},
   "outputs": [],
   "source": [
    "importlib.reload(LSTMModel)\n",
    "importlib.reload(LSTMCoSTA)\n",
    "\n",
    "NNModel = LSTMModel.Net(input_size=22, hidden_size=64, output_shape=26,\n",
    "                      num_lstm_layers=1, linear_layers=[90, 64, 64], \n",
    "                      bidir=False)\n",
    "\n",
    "CoSTA_2 = LSTMCoSTA.LSTMCoSTA(thermoPBM, NNModel)\n",
    "\n",
    "# count_parameters(CoSTA)\n",
    "\n",
    "epochs = 1000\n",
    "lr = 0.01\n",
    "l2_reg = 0.001\n",
    "\n",
    "CoSTA_2.train(train_loader, val_loader, epochs, lr, l2_reg)"
   ]
  },
  {
   "cell_type": "code",
   "execution_count": null,
   "metadata": {},
   "outputs": [],
   "source": [
    "importlib.reload(LSTMModel)\n",
    "importlib.reload(LSTMCoSTA)\n",
    "\n",
    "NNModel = LSTMModel.Net(input_size=22, hidden_size=64, output_shape=26,\n",
    "                      num_lstm_layers=1, linear_layers=[90, 64, 64], \n",
    "                      bidir=False)\n",
    "\n",
    "CoSTA_3 = LSTMCoSTA.LSTMCoSTA(thermoPBM, NNModel)\n",
    "\n",
    "# count_parameters(CoSTA)\n",
    "\n",
    "epochs = 1000\n",
    "lr = 0.0001\n",
    "l2_reg = 0.001\n",
    "\n",
    "CoSTA_3.train(train_loader, val_loader, epochs, lr, l2_reg)"
   ]
  },
  {
   "cell_type": "code",
   "execution_count": null,
   "metadata": {},
   "outputs": [
    {
     "ename": "NameError",
     "evalue": "name 'LSTMModel' is not defined",
     "output_type": "error",
     "traceback": [
      "\u001b[0;31m---------------------------------------------------------------------------\u001b[0m",
      "\u001b[0;31mNameError\u001b[0m                                 Traceback (most recent call last)",
      "Cell \u001b[0;32mIn[30], line 1\u001b[0m\n\u001b[0;32m----> 1\u001b[0m importlib\u001b[39m.\u001b[39mreload(LSTMModel)\n\u001b[1;32m      2\u001b[0m importlib\u001b[39m.\u001b[39mreload(LSTMCoSTA)\n\u001b[1;32m      4\u001b[0m NNModel \u001b[39m=\u001b[39m LSTMModel\u001b[39m.\u001b[39mNet(input_size\u001b[39m=\u001b[39m\u001b[39m22\u001b[39m, hidden_size\u001b[39m=\u001b[39m\u001b[39m64\u001b[39m, output_shape\u001b[39m=\u001b[39m\u001b[39m26\u001b[39m,\n\u001b[1;32m      5\u001b[0m                       num_lstm_layers\u001b[39m=\u001b[39m\u001b[39m1\u001b[39m, linear_layers\u001b[39m=\u001b[39m[\u001b[39m90\u001b[39m, \u001b[39m64\u001b[39m, \u001b[39m64\u001b[39m], \n\u001b[1;32m      6\u001b[0m                       bidir\u001b[39m=\u001b[39m\u001b[39mFalse\u001b[39;00m, dropout_p\u001b[39m=\u001b[39m\u001b[39m0.2\u001b[39m)\n",
      "\u001b[0;31mNameError\u001b[0m: name 'LSTMModel' is not defined"
     ]
    }
   ],
   "source": [
    "importlib.reload(LSTMModel)\n",
    "importlib.reload(LSTMCoSTA)\n",
    "\n",
    "NNModel = LSTMModel.Net(input_size=22, hidden_size=64, output_shape=26,\n",
    "                      num_lstm_layers=1, linear_layers=[90, 64, 64], \n",
    "                      bidir=False, dropout_p=0.2)\n",
    "\n",
    "CoSTA_4 = LSTMCoSTA.LSTMCoSTA(thermoPBM, NNModel)\n",
    "\n",
    "# count_parameters(CoSTA)\n",
    "\n",
    "epochs = 1000\n",
    "lr = 0.001\n",
    "l2_reg = 0.01\n",
    "\n",
    "CoSTA_4.train(train_loader, val_loader, epochs, lr, l2_reg)"
   ]
  },
  {
   "cell_type": "code",
   "execution_count": null,
   "metadata": {},
   "outputs": [],
   "source": [
    "importlib.reload(LSTMModel)\n",
    "importlib.reload(LSTMCoSTA)\n",
    "\n",
    "NNModel = LSTMModel.Net(input_size=22, hidden_size=64, output_shape=26,\n",
    "                      num_lstm_layers=1, linear_layers=[90, 64, 64], \n",
    "                      bidir=False, dropout_p=0.4)\n",
    "\n",
    "CoSTA_5 = LSTMCoSTA.LSTMCoSTA(thermoPBM, NNModel)\n",
    "\n",
    "# count_parameters(CoSTA)\n",
    "\n",
    "epochs = 1000\n",
    "lr = 0.001\n",
    "l2_reg = 0.001\n",
    "\n",
    "CoSTA_5.train(train_loader, val_loader, epochs, lr, l2_reg)"
   ]
  },
  {
   "cell_type": "code",
   "execution_count": null,
   "metadata": {},
   "outputs": [],
   "source": [
    "importlib.reload(LSTMModel)\n",
    "importlib.reload(LSTMCoSTA)\n",
    "\n",
    "NNModel = LSTMModel.Net(input_size=22, hidden_size=64, output_shape=26,\n",
    "                      num_lstm_layers=1, linear_layers=[90, 64, 64], \n",
    "                      bidir=False, dropout_p=0.0)\n",
    "\n",
    "CoSTA_6 = LSTMCoSTA.LSTMCoSTA(thermoPBM, NNModel)\n",
    "\n",
    "# count_parameters(CoSTA)\n",
    "\n",
    "epochs = 1000\n",
    "lr = 0.001\n",
    "l2_reg = 0.001\n",
    "\n",
    "CoSTA_6.train(train_loader, val_loader, epochs, lr, l2_reg)"
   ]
  },
  {
   "cell_type": "code",
   "execution_count": null,
   "metadata": {},
   "outputs": [
    {
     "ename": "ValueError",
     "evalue": "too many values to unpack (expected 7)",
     "output_type": "error",
     "traceback": [
      "\u001b[0;31m---------------------------------------------------------------------------\u001b[0m",
      "\u001b[0;31mValueError\u001b[0m                                Traceback (most recent call last)",
      "Cell \u001b[0;32mIn[16], line 1\u001b[0m\n\u001b[0;32m----> 1\u001b[0m \u001b[39mfor\u001b[39;00m i, (temp, label, warmup_temp, warmup_outdoor, outdoor, door, timing) \u001b[39min\u001b[39;00m \u001b[39mlist\u001b[39m(\u001b[39menumerate\u001b[39m(train_loader))[:\u001b[39m1\u001b[39m]:\n\u001b[1;32m      3\u001b[0m     T_room_warmup \u001b[39m=\u001b[39m LSTMCoSTA\u001b[39m.\u001b[39mpbm_temp_from_sensor(warmup_temp[:, \u001b[39m0\u001b[39m, :])\n\u001b[1;32m      4\u001b[0m     T_wall_warmup \u001b[39m=\u001b[39m torch\u001b[39m.\u001b[39mzeros_like(T_room_warmup)\n",
      "\u001b[0;31mValueError\u001b[0m: too many values to unpack (expected 7)"
     ]
    }
   ],
   "source": [
    "for i, (temp, label, warmup_temp, warmup_outdoor, outdoor, door, timing, _) in list(enumerate(train_loader))[:1]:\n",
    "\n",
    "    T_room_warmup = LSTMCoSTA.pbm_temp_from_sensor(warmup_temp[:, 0, :])\n",
    "    T_wall_warmup = torch.zeros_like(T_room_warmup)\n",
    "    \n",
    "    batch_size = temp.shape[0]\n",
    "    n_rooms = T_room_warmup.shape[0]\n",
    "    for n in range(warmup_temp.shape[1]):\n",
    "        for _ in range(N):\n",
    "            T_room_warmup, T_wall_warmup = thermoPBM(T_room_warmup, T_wall_warmup, warmup_outdoor[:, n].unsqueeze(1), delta_t)\n",
    "\n",
    "\n",
    "    T_room, T_wall = CoSTA(T_room, T_wall, outdoor, door, timing, 15, 60)"
   ]
  },
  {
   "cell_type": "code",
   "execution_count": null,
   "metadata": {},
   "outputs": [],
   "source": [
    "save_model = False\n",
    "if save_model:\n",
    "    torch.save(CoSTA.state_dict(), 'models/CoSTA.pt')"
   ]
  },
  {
   "cell_type": "code",
   "execution_count": null,
   "metadata": {},
   "outputs": [
    {
     "data": {
      "text/plain": [
       "<All keys matched successfully>"
      ]
     },
     "execution_count": 21,
     "metadata": {},
     "output_type": "execute_result"
    }
   ],
   "source": [
    "NNModel = LSTMModel.Net(input_size=22, hidden_size=64, output_shape=26,\n",
    "                      num_lstm_layers=1, linear_layers=[90, 64, 64], bidir=False)\n",
    "\n",
    "CoSTA = LSTMCoSTA.LSTMCoSTA(thermoPBM, NNModel)\n",
    "CoSTA.load_state_dict(torch.load('./models/model_lr0.0001l20.001'))"
   ]
  },
  {
   "cell_type": "code",
   "execution_count": null,
   "metadata": {},
   "outputs": [],
   "source": [
    "sim_n = 300#len(test_data)\n",
    "\n",
    "pbm_out = torch.zeros((sim_n, 13))\n",
    "pbm_out_wall = torch.zeros((sim_n, 13))\n",
    "true = torch.zeros((sim_n, 13))\n",
    "\n",
    "delta_t = 60\n",
    "N = 15\n",
    "\n",
    "for i, (warmup_indoor, warmup_outdoor, indoor_temp, outdoor_temp, door, timing, labels, lstm_input) in enumerate(list(test_loader)[:sim_n]):\n",
    "    \n",
    "    if i % 96 == 0:\n",
    "        T_room_warmup = LSTMCoSTA.pbm_temp_from_sensor(warmup_indoor[:, 0, :])\n",
    "        T_wall_warmup = torch.zeros_like(T_room_warmup)\n",
    "        \n",
    "        for n in range(warmup_indoor.shape[1]):\n",
    "            for _ in range(N):\n",
    "                T_room_warmup, T_wall_warmup = thermoPBM(T_room_warmup, T_wall_warmup, warmup_outdoor[:, n, :], delta_t)\n",
    "\n",
    "\n",
    "        T_room = LSTMCoSTA.pbm_temp_from_sensor(indoor_temp)\n",
    "        T_wall = T_wall_warmup\n",
    "    \n",
    "    # elif i % 96 == 0:\n",
    "    #     T_room = FFCoSTA.pbm_temp_from_sensor(indoor_temp)\n",
    "\n",
    "    T_room, T_wall = CoSTA(T_room, T_wall, outdoor_temp, lstm_input, N, delta_t, 1)\n",
    "\n",
    "    pbm_out[i] = T_room\n",
    "    pbm_out_wall[i] = T_wall\n",
    "    true[i] = LSTMCoSTA.pbm_temp_from_sensor(labels[0, 0].unsqueeze(0))\n"
   ]
  },
  {
   "cell_type": "code",
   "execution_count": null,
   "metadata": {},
   "outputs": [
    {
     "name": "stdout",
     "output_type": "stream",
     "text": [
      "MAE: 33688208.0\n"
     ]
    },
    {
     "data": {
      "image/png": "[encoded data removed]",
      "text/plain": [
       "<Figure size 2000x1000 with 1 Axes>"
      ]
     },
     "metadata": {},
     "output_type": "display_data"
    }
   ],
   "source": [
    "room = 0\n",
    "plt.figure(figsize=(20, 10))\n",
    "plt.plot(pbm_out.detach()[:sim_n, room], label=\"pbm\")\n",
    "# plt.plot(pbm_out_wall.detach()[:sim_n, room], label=\"pbm wall\")\n",
    "plt.plot(true[:sim_n, room], label=\"true\")\n",
    "plt.vlines(x = range(0, len(true), 96), ymax=np.max(np.maximum.reduce([true[:, 0].detach().numpy(), pbm_out[:, 0].detach().numpy()])), ymin=np.min(np.minimum.reduce([true[:, 0].detach().numpy(), pbm_out[:, 0].detach().numpy()])), linestyles='dotted', colors='c', label='DDM Corrected')\n",
    "plt.legend()\n",
    "print(f'MAE: {torch.mean(torch.abs(true[:sim_n, 0] - (pbm_out[:sim_n, 0])))}')"
   ]
  },
  {
   "attachments": {},
   "cell_type": "markdown",
   "metadata": {},
   "source": [
    "### Sandbox"
   ]
  },
  {
   "cell_type": "code",
   "execution_count": null,
   "metadata": {},
   "outputs": [
    {
     "name": "stderr",
     "output_type": "stream",
     "text": [
      "/home/henrikhestnes/anaconda3/envs/LSTM/lib/python3.9/site-packages/tqdm/auto.py:21: TqdmWarning: IProgress not found. Please update jupyter and ipywidgets. See https://ipywidgets.readthedocs.io/en/stable/user_install.html\n",
      "  from .autonotebook import tqdm as notebook_tqdm\n"
     ]
    }
   ],
   "source": [
    "import asset\n",
    "import PBM\n",
    "import importlib\n",
    "importlib.reload(PBM)\n",
    "importlib.reload(asset)\n",
    "\n",
    "gfBedroom = asset.Zone(\"gfBedroom\",       [0.34146, 1.36584, 1.36584, 0.34146],           [41652.8784, 402850.8])\n",
    "gfLivingroom = asset.Zone(\"gfLivingroom\", [0.598068, 2.392272, 2.392272, 0.598068],       [157355.3184, 747837.36])\n",
    "stairs = asset.Zone(\"stairs\",             [0.4067498, 1.6269992, 1.6269992, 0.4067498],   [69035.7892, 647290.4264])\n",
    "gfBath = asset.Zone(\"gfBath\",             [0.2705976, 1.0823904, 1.0823904, 0.2705976],   [44159.7646, 434698.992])\n",
    "gfStorage = asset.Zone(\"gfStorage\",       [0.2901384, 1.1605536, 1.1605536, 0.2901384],   [49173.537, 466090.128])\n",
    "f1Guestroom = asset.Zone(\"f1Guestroom\",   [0.366948, 1.467792, 1.467792, 0.366948],       [49944.8866, 443795.76])\n",
    "f1Mainroom = asset.Zone(\"f1Mainroom\",     [0.421254, 1.685016, 1.685016, 0.421254],       [66721.7404, 525431.88])\n",
    "f1Sleep3 = asset.Zone(\"f1Sleep3\",         [0.370791, 1.483164, 1.483164, 0.370791],       [49559.2118, 486390.42])\n",
    "f1Bath = asset.Zone(\"f1Bath\",             [0.172752, 0.691008, 0.691008, 0.172752],       [37796.1304, 277515.84])\n",
    "f1Storage = asset.Zone(\"f1Storage\",       [0.423831, 1.695324, 1.695324, 0.423831],       [26033.049, 673890.636])\n",
    "f1Entrance = asset.Zone(\"f1Entrance\",     [0.123192, 0.492768, 0.492768, 0.123192],       [88512.3666, 197900.64])\n",
    "f2Livingroom = asset.Zone(\"f2Livingroom\", [2.6243349, 10.4973396, 10.4973396, 2.6243349], [345178.946, 3373189.904])\n",
    "f2Office = asset.Zone(\"f2Office\",         [0.3805635, 1.522254, 1.522254, 0.3805635],     [42424.228, 462828.5916])\n",
    "zones = [gfBedroom, gfLivingroom, stairs, gfBath, gfStorage, f1Guestroom, f1Mainroom, f1Sleep3, f1Bath, f1Storage, f1Entrance, f2Livingroom, f2Office]\n",
    "\n",
    "connections =  [{\"rooms\": [\"gfBedroom\", \"gfLivingroom\"],    \"R\": 10.35216, \"C\": 179373.6}, \n",
    "                {\"rooms\": [\"gfBedroom\", \"stairs\"],          \"R\": 4.43664, \"C\": 76874.4},\n",
    "                {\"rooms\": [\"gfBedroom\", \"f1Guestroom\"],     \"R\": 2.016, \"C\": 207012.6},\n",
    "                {\"rooms\": [\"gfLivingroom\", \"gfBath\"],       \"R\": 9.785256, \"C\": 169550.76},\n",
    "                {\"rooms\": [\"gfLivingroom\", \"stairs\"],       \"R\": 38.10888, \"C\": 0},\n",
    "                {\"rooms\": [\"gfLivingroom\", \"f1Entrance\"],   \"R\": 2.7216, \"C\": 279467.01},\n",
    "                {\"rooms\": [\"gfLivingroom\", \"f1Mainroom\"],   \"R\": 3.2256, \"C\": 331220.16},\n",
    "                {\"rooms\": [\"gfBath\", \"gfStorage\"],          \"R\": 5.91552, \"C\": 102499.2},\n",
    "                {\"rooms\": [\"gfBath\", \"f1Sleep3\"],           \"R\": 1.12896, \"C\": 115927.056},\n",
    "                {\"rooms\": [\"gfStorage\", \"stairs\"],          \"R\": 4.43664, \"C\": 76874.4},\n",
    "                {\"rooms\": [\"gfStorage\", \"f1Bath\"],          \"R\": 1.82784, \"C\": 187691.424},\n",
    "                {\"rooms\": [\"f1Guestroom\", \"f1Mainroom\"],    \"R\": 7.3944, \"C\": 128124},\n",
    "                {\"rooms\": [\"f1Guestroom\", \"f1Entrance\"],    \"R\": 4.43664, \"C\": 76874.4},\n",
    "                {\"rooms\": [\"f1Guestroom\", \"stairs\"],        \"R\": 4.43664, \"C\": 76874.4},\n",
    "                {\"rooms\": [\"f1Guestroom\", \"f2Livingroom\"],  \"R\": 2.4192, \"C\": 248415.12},\n",
    "                {\"rooms\": [\"f1Mainroom\", \"f1Sleep3\"],       \"R\": 5.17608, \"C\": 89686.8},\n",
    "                {\"rooms\": [\"f1Mainroom\", \"f1Entrance\"],     \"R\": 6.65496, \"C\": 115311.6},\n",
    "                {\"rooms\": [\"f1Mainroom\", \"f2Livingroom\"],   \"R\": 3.2256, \"C\": 331220.16},\n",
    "                {\"rooms\": [\"f1Sleep3\", \"f1Entrance\"],       \"R\": 12.57048, \"C\": 217810.8},\n",
    "                {\"rooms\": [\"f1Sleep3\", \"f2Livingroom\"],     \"R\": 2.39904, \"C\": 246344.994},\n",
    "                {\"rooms\": [\"f1Entrance\", \"f1Bath\"],         \"R\": 3.94368, \"C\": 68332.8},\n",
    "                {\"rooms\": [\"f1Entrance\", \"stairs\"],         \"R\": 38.10888, \"C\": 0},\n",
    "                {\"rooms\": [\"f1Entrance\", \"f2Livingroom\"],   \"R\": 4.28064, \"C\": 439556.754},\n",
    "                {\"rooms\": [\"f1Bath\", \"f1Storage\"],          \"R\": 0.72216, \"C\": 116010.72},\n",
    "                {\"rooms\": [\"f1Bath\", \"stairs\"],             \"R\": 4.43664, \"C\": 76874.4},\n",
    "                {\"rooms\": [\"f1Bath\", \"f2Office\"],           \"R\": 1.82784, \"C\": 187691.424},\n",
    "                {\"rooms\": [\"f2Livingroom\", \"f2Office\"],     \"R\": 12.089844, \"C\": 209482.74},\n",
    "                {\"rooms\": [\"f2Livingroom\", \"stairs\"],       \"R\": 43.131254, \"C\": 0},\n",
    "                {\"rooms\": [\"f2Office\", \"stairs\"],           \"R\": 4.729335, \"C\": 81945.975}]\n",
    "\n",
    "house = asset.Asset(zones, connections)\n",
    "\n",
    "thermoPBM = PBM.thermoPBM(house)"
   ]
  },
  {
   "cell_type": "code",
   "execution_count": null,
   "metadata": {},
   "outputs": [],
   "source": [
    "index = [\"Ground Floor Bedroom\", \"Ground Floor Living Room\", \"Stairs\", \"Ground Floor Bathroom\",\"Ground Floor Storage Room\",\n",
    "         \"1st Floor Bedroom 1\", \"1st Floor Bedroom 2\", \"1st Floor Bedroom 3\", \"1st Floor Bathroom\", \n",
    "         \"1st Floor Storage Room\", \"1st Floor Entrance Hall\", \"2nd Floor Living Room\", \"2nd Floor Office\"]\n",
    "cols = [\"R_ext\", \"R_outWall\", \"R_inwall\", \"R_room\", \"C_wall\", \"C_room\"]\n",
    "latex_frame = pd.DataFrame(columns=cols, index=index)"
   ]
  },
  {
   "cell_type": "code",
   "execution_count": null,
   "metadata": {},
   "outputs": [],
   "source": [
    "R = house.get_R()\n",
    "C = house.get_C()\n",
    "r_and_c = np.concatenate((R, C), axis=0)\n",
    "values = [r_and_c[:, i] for i in range(len(index))]"
   ]
  },
  {
   "cell_type": "code",
   "execution_count": null,
   "metadata": {},
   "outputs": [],
   "source": [
    "values = np.array(values).T"
   ]
  },
  {
   "cell_type": "code",
   "execution_count": null,
   "metadata": {},
   "outputs": [],
   "source": [
    "for i, col in enumerate(cols):\n",
    "    latex_frame[col] = values[i]"
   ]
  },
  {
   "cell_type": "code",
   "execution_count": null,
   "metadata": {},
   "outputs": [
    {
     "name": "stderr",
     "output_type": "stream",
     "text": [
      "/tmp/ipykernel_195035/2678670408.py:1: FutureWarning: In future versions `DataFrame.to_latex` is expected to utilise the base implementation of `Styler.to_latex` for formatting and rendering. The arguments signature may therefore change. It is recommended instead to use `DataFrame.style.to_latex` which also contains additional functionality.\n",
      "  latex_frame.to_latex(\"latex_frame.tex\", float_format=\"%.3f\")\n"
     ]
    }
   ],
   "source": [
    "latex_frame.to_latex(\"latex_frame.tex\", float_format=\"%.3f\")"
   ]
  },
  {
   "cell_type": "code",
   "execution_count": null,
   "metadata": {},
   "outputs": [],
   "source": [
    "cols = [r\"\\textbf{Room 1}\", r\"\\textbf{Room 2}\", r\"\\boldsymbol{$R_{partWall}$}\", r\"\\boldsymbol{$C_{partWall}$}\"]\n",
    "latex_connections = pd.DataFrame(columns=cols)"
   ]
  },
  {
   "cell_type": "code",
   "execution_count": null,
   "metadata": {},
   "outputs": [],
   "source": [
    "room_1 = [connection['rooms'][0] for connection in connections]\n",
    "room_2 = [connection['rooms'][1] for connection in connections]\n",
    "R = [connection['R'] for connection in connections]\n",
    "C = [connection['C'] for connection in connections]"
   ]
  },
  {
   "cell_type": "code",
   "execution_count": null,
   "metadata": {},
   "outputs": [],
   "source": [
    "latex_connections[cols[0]] = room_1\n",
    "latex_connections[cols[1]] = room_2\n",
    "latex_connections[cols[2]] = R\n",
    "latex_connections[cols[3]] = C"
   ]
  },
  {
   "cell_type": "code",
   "execution_count": null,
   "metadata": {},
   "outputs": [
    {
     "name": "stderr",
     "output_type": "stream",
     "text": [
      "/tmp/ipykernel_202787/598737568.py:1: FutureWarning: In future versions `DataFrame.to_latex` is expected to utilise the base implementation of `Styler.to_latex` for formatting and rendering. The arguments signature may therefore change. It is recommended instead to use `DataFrame.style.to_latex` which also contains additional functionality.\n",
      "  latex_connections.to_latex(\"latex_connections.tex\", float_format=\"%.3f\", index=False)\n"
     ]
    }
   ],
   "source": [
    "latex_connections.to_latex(\"latex_connections.tex\", float_format=\"%.3f\", index=False)"
   ]
  }
 ],
 "metadata": {
  "kernelspec": {
   "display_name": "LSTM",
   "language": "python",
   "name": "python3"
  },
  "language_info": {
   "codemirror_mode": {
    "name": "ipython",
    "version": 3
   },
   "file_extension": ".py",
   "mimetype": "text/x-python",
   "name": "python",
   "nbconvert_exporter": "python",
   "pygments_lexer": "ipython3",
   "version": "3.9.16"
  },
  "orig_nbformat": 4
 },
 "nbformat": 4,
 "nbformat_minor": 2
}
